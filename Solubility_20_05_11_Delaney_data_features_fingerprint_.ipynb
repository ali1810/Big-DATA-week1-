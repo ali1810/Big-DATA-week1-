{
  "nbformat": 4,
  "nbformat_minor": 0,
  "metadata": {
    "colab": {
      "name": "Solubility_20_05_11.Delaney_data_features_fingerprint .ipynb",
      "provenance": [],
      "collapsed_sections": [],
      "mount_file_id": "10i8HGHC6fxq62tesNVLmGxTprW9sl-KO",
      "authorship_tag": "ABX9TyP6KNW2p55sTn/ZU2yxe+Hh",
      "include_colab_link": true
    },
    "kernelspec": {
      "name": "python3",
      "display_name": "Python 3"
    },
    "language_info": {
      "name": "python"
    }
  },
  "cells": [
    {
      "cell_type": "markdown",
      "metadata": {
        "id": "view-in-github",
        "colab_type": "text"
      },
      "source": [
        "<a href=\"https://colab.research.google.com/github/ali1810/Big-DATA-week1-/blob/master/Solubility_20_05_11_Delaney_data_features_fingerprint_.ipynb\" target=\"_parent\"><img src=\"https://colab.research.google.com/assets/colab-badge.svg\" alt=\"Open In Colab\"/></a>"
      ]
    },
    {
      "cell_type": "code",
      "execution_count": null,
      "metadata": {
        "id": "G236bNZA4owt"
      },
      "outputs": [],
      "source": [
        "# Use seaborn for pairplot ...\n",
        "!pip install -q seaborn"
      ]
    },
    {
      "cell_type": "code",
      "source": [
        "# Importing required library ...\n",
        "import matplotlib.pyplot as plt\n",
        "import numpy as np\n",
        "import pandas as pd\n",
        "import seaborn as sns"
      ],
      "metadata": {
        "id": "ocw8-rDH5cFW"
      },
      "execution_count": null,
      "outputs": []
    },
    {
      "cell_type": "code",
      "source": [
        "# Make NumPy printouts easier to read.\n",
        "np.set_printoptions(precision=3, suppress=True)"
      ],
      "metadata": {
        "id": "1LEmCEfv5-6u"
      },
      "execution_count": null,
      "outputs": []
    },
    {
      "cell_type": "code",
      "source": [
        "## Importing tensorflow...\n",
        "import tensorflow as tf\n",
        "\n",
        "from tensorflow import keras\n",
        "from tensorflow.keras import layers\n",
        "\n",
        "print(tf.__version__)"
      ],
      "metadata": {
        "colab": {
          "base_uri": "https://localhost:8080/"
        },
        "id": "dHrXJU2N6hBB",
        "outputId": "3a73e284-a945-47b7-f35f-169681c63360"
      },
      "execution_count": null,
      "outputs": [
        {
          "output_type": "stream",
          "name": "stdout",
          "text": [
            "2.8.0\n"
          ]
        }
      ]
    },
    {
      "cell_type": "code",
      "source": [
        "### Installation of condacolab to install rdkit ....\n",
        "!pip install -q condacolab\n",
        "import condacolab\n",
        "condacolab.install()"
      ],
      "metadata": {
        "colab": {
          "base_uri": "https://localhost:8080/"
        },
        "id": "FyBIaa2h61zC",
        "outputId": "a37ab7e6-6c7d-4ec4-bce2-896918a2584c"
      },
      "execution_count": null,
      "outputs": [
        {
          "output_type": "stream",
          "name": "stdout",
          "text": [
            "⏬ Downloading https://github.com/jaimergp/miniforge/releases/latest/download/Mambaforge-colab-Linux-x86_64.sh...\n",
            "📦 Installing...\n",
            "📌 Adjusting configuration...\n",
            "🩹 Patching environment...\n",
            "⏲ Done in 0:00:40\n",
            "🔁 Restarting kernel...\n"
          ]
        }
      ]
    },
    {
      "cell_type": "code",
      "source": [
        "### Installing RDKIT \n",
        "\n",
        "#!mamba install -c conda-forge rdkit"
      ],
      "metadata": {
        "id": "4yu4OFDN7zB7"
      },
      "execution_count": 1,
      "outputs": []
    },
    {
      "cell_type": "code",
      "source": [
        "## Mount drive to access the dataset from google drive \n",
        "from google.colab import drive\n",
        "drive.mount('/content/drive')"
      ],
      "metadata": {
        "colab": {
          "base_uri": "https://localhost:8080/"
        },
        "id": "lOPSFUT38d6c",
        "outputId": "f90151ae-c57f-41f4-876b-49f909e2de9b"
      },
      "execution_count": null,
      "outputs": [
        {
          "output_type": "stream",
          "name": "stdout",
          "text": [
            "Mounted at /content/drive\n"
          ]
        }
      ]
    },
    {
      "cell_type": "code",
      "source": [
        "import pandas as pd\n",
        "data=pd.read_csv('/content/drive/MyDrive/delaney.csv')\n"
      ],
      "metadata": {
        "id": "aE4i2Avs8-B1"
      },
      "execution_count": null,
      "outputs": []
    },
    {
      "cell_type": "code",
      "source": [
        "data.isnull().values.any().sum()"
      ],
      "metadata": {
        "colab": {
          "base_uri": "https://localhost:8080/"
        },
        "id": "7Ca6immKq4PQ",
        "outputId": "55616820-b8a6-4073-f21a-eed8162447c8"
      },
      "execution_count": null,
      "outputs": [
        {
          "output_type": "execute_result",
          "data": {
            "text/plain": [
              "0"
            ]
          },
          "metadata": {},
          "execution_count": 2
        }
      ]
    },
    {
      "cell_type": "code",
      "source": [
        "data['SMILES'].isnull().any().sum()\n",
        "#check_for_nan = data['SMILES'].isnull()\n",
        "#print (check_for_nan)"
      ],
      "metadata": {
        "colab": {
          "base_uri": "https://localhost:8080/"
        },
        "id": "Lg_yiFL_rvU9",
        "outputId": "a90dcb9d-b9f1-4098-dd94-4da582eba8bc"
      },
      "execution_count": null,
      "outputs": [
        {
          "output_type": "execute_result",
          "data": {
            "text/plain": [
              "0"
            ]
          },
          "metadata": {},
          "execution_count": 3
        }
      ]
    },
    {
      "cell_type": "code",
      "source": [
        "data.head()"
      ],
      "metadata": {
        "colab": {
          "base_uri": "https://localhost:8080/",
          "height": 206
        },
        "id": "TPMHD33U9GPE",
        "outputId": "c0823275-d273-4df1-ddac-06188f2c9c09"
      },
      "execution_count": null,
      "outputs": [
        {
          "output_type": "execute_result",
          "data": {
            "text/plain": [
              "                      Compound ID  measured log(solubility:mol/L)  \\\n",
              "0       1,1,1,2-Tetrachloroethane                           -2.18   \n",
              "1           1,1,1-Trichloroethane                           -2.00   \n",
              "2       1,1,2,2-Tetrachloroethane                           -1.74   \n",
              "3           1,1,2-Trichloroethane                           -1.48   \n",
              "4  1,1,2-Trichlorotrifluoroethane                           -3.04   \n",
              "\n",
              "   ESOL predicted log(solubility:mol/L)               SMILES  \n",
              "0                                -2.794       ClCC(Cl)(Cl)Cl  \n",
              "1                                -2.232         CC(Cl)(Cl)Cl  \n",
              "2                                -2.549       ClC(Cl)C(Cl)Cl  \n",
              "3                                -1.961           ClCC(Cl)Cl  \n",
              "4                                -3.077  FC(F)(Cl)C(F)(Cl)Cl  "
            ],
            "text/html": [
              "\n",
              "  <div id=\"df-1f038040-1241-4526-b1d3-76da68d07455\">\n",
              "    <div class=\"colab-df-container\">\n",
              "      <div>\n",
              "<style scoped>\n",
              "    .dataframe tbody tr th:only-of-type {\n",
              "        vertical-align: middle;\n",
              "    }\n",
              "\n",
              "    .dataframe tbody tr th {\n",
              "        vertical-align: top;\n",
              "    }\n",
              "\n",
              "    .dataframe thead th {\n",
              "        text-align: right;\n",
              "    }\n",
              "</style>\n",
              "<table border=\"1\" class=\"dataframe\">\n",
              "  <thead>\n",
              "    <tr style=\"text-align: right;\">\n",
              "      <th></th>\n",
              "      <th>Compound ID</th>\n",
              "      <th>measured log(solubility:mol/L)</th>\n",
              "      <th>ESOL predicted log(solubility:mol/L)</th>\n",
              "      <th>SMILES</th>\n",
              "    </tr>\n",
              "  </thead>\n",
              "  <tbody>\n",
              "    <tr>\n",
              "      <th>0</th>\n",
              "      <td>1,1,1,2-Tetrachloroethane</td>\n",
              "      <td>-2.18</td>\n",
              "      <td>-2.794</td>\n",
              "      <td>ClCC(Cl)(Cl)Cl</td>\n",
              "    </tr>\n",
              "    <tr>\n",
              "      <th>1</th>\n",
              "      <td>1,1,1-Trichloroethane</td>\n",
              "      <td>-2.00</td>\n",
              "      <td>-2.232</td>\n",
              "      <td>CC(Cl)(Cl)Cl</td>\n",
              "    </tr>\n",
              "    <tr>\n",
              "      <th>2</th>\n",
              "      <td>1,1,2,2-Tetrachloroethane</td>\n",
              "      <td>-1.74</td>\n",
              "      <td>-2.549</td>\n",
              "      <td>ClC(Cl)C(Cl)Cl</td>\n",
              "    </tr>\n",
              "    <tr>\n",
              "      <th>3</th>\n",
              "      <td>1,1,2-Trichloroethane</td>\n",
              "      <td>-1.48</td>\n",
              "      <td>-1.961</td>\n",
              "      <td>ClCC(Cl)Cl</td>\n",
              "    </tr>\n",
              "    <tr>\n",
              "      <th>4</th>\n",
              "      <td>1,1,2-Trichlorotrifluoroethane</td>\n",
              "      <td>-3.04</td>\n",
              "      <td>-3.077</td>\n",
              "      <td>FC(F)(Cl)C(F)(Cl)Cl</td>\n",
              "    </tr>\n",
              "  </tbody>\n",
              "</table>\n",
              "</div>\n",
              "      <button class=\"colab-df-convert\" onclick=\"convertToInteractive('df-1f038040-1241-4526-b1d3-76da68d07455')\"\n",
              "              title=\"Convert this dataframe to an interactive table.\"\n",
              "              style=\"display:none;\">\n",
              "        \n",
              "  <svg xmlns=\"http://www.w3.org/2000/svg\" height=\"24px\"viewBox=\"0 0 24 24\"\n",
              "       width=\"24px\">\n",
              "    <path d=\"M0 0h24v24H0V0z\" fill=\"none\"/>\n",
              "    <path d=\"M18.56 5.44l.94 2.06.94-2.06 2.06-.94-2.06-.94-.94-2.06-.94 2.06-2.06.94zm-11 1L8.5 8.5l.94-2.06 2.06-.94-2.06-.94L8.5 2.5l-.94 2.06-2.06.94zm10 10l.94 2.06.94-2.06 2.06-.94-2.06-.94-.94-2.06-.94 2.06-2.06.94z\"/><path d=\"M17.41 7.96l-1.37-1.37c-.4-.4-.92-.59-1.43-.59-.52 0-1.04.2-1.43.59L10.3 9.45l-7.72 7.72c-.78.78-.78 2.05 0 2.83L4 21.41c.39.39.9.59 1.41.59.51 0 1.02-.2 1.41-.59l7.78-7.78 2.81-2.81c.8-.78.8-2.07 0-2.86zM5.41 20L4 18.59l7.72-7.72 1.47 1.35L5.41 20z\"/>\n",
              "  </svg>\n",
              "      </button>\n",
              "      \n",
              "  <style>\n",
              "    .colab-df-container {\n",
              "      display:flex;\n",
              "      flex-wrap:wrap;\n",
              "      gap: 12px;\n",
              "    }\n",
              "\n",
              "    .colab-df-convert {\n",
              "      background-color: #E8F0FE;\n",
              "      border: none;\n",
              "      border-radius: 50%;\n",
              "      cursor: pointer;\n",
              "      display: none;\n",
              "      fill: #1967D2;\n",
              "      height: 32px;\n",
              "      padding: 0 0 0 0;\n",
              "      width: 32px;\n",
              "    }\n",
              "\n",
              "    .colab-df-convert:hover {\n",
              "      background-color: #E2EBFA;\n",
              "      box-shadow: 0px 1px 2px rgba(60, 64, 67, 0.3), 0px 1px 3px 1px rgba(60, 64, 67, 0.15);\n",
              "      fill: #174EA6;\n",
              "    }\n",
              "\n",
              "    [theme=dark] .colab-df-convert {\n",
              "      background-color: #3B4455;\n",
              "      fill: #D2E3FC;\n",
              "    }\n",
              "\n",
              "    [theme=dark] .colab-df-convert:hover {\n",
              "      background-color: #434B5C;\n",
              "      box-shadow: 0px 1px 3px 1px rgba(0, 0, 0, 0.15);\n",
              "      filter: drop-shadow(0px 1px 2px rgba(0, 0, 0, 0.3));\n",
              "      fill: #FFFFFF;\n",
              "    }\n",
              "  </style>\n",
              "\n",
              "      <script>\n",
              "        const buttonEl =\n",
              "          document.querySelector('#df-1f038040-1241-4526-b1d3-76da68d07455 button.colab-df-convert');\n",
              "        buttonEl.style.display =\n",
              "          google.colab.kernel.accessAllowed ? 'block' : 'none';\n",
              "\n",
              "        async function convertToInteractive(key) {\n",
              "          const element = document.querySelector('#df-1f038040-1241-4526-b1d3-76da68d07455');\n",
              "          const dataTable =\n",
              "            await google.colab.kernel.invokeFunction('convertToInteractive',\n",
              "                                                     [key], {});\n",
              "          if (!dataTable) return;\n",
              "\n",
              "          const docLinkHtml = 'Like what you see? Visit the ' +\n",
              "            '<a target=\"_blank\" href=https://colab.research.google.com/notebooks/data_table.ipynb>data table notebook</a>'\n",
              "            + ' to learn more about interactive tables.';\n",
              "          element.innerHTML = '';\n",
              "          dataTable['output_type'] = 'display_data';\n",
              "          await google.colab.output.renderOutput(dataTable, element);\n",
              "          const docLink = document.createElement('div');\n",
              "          docLink.innerHTML = docLinkHtml;\n",
              "          element.appendChild(docLink);\n",
              "        }\n",
              "      </script>\n",
              "    </div>\n",
              "  </div>\n",
              "  "
            ]
          },
          "metadata": {},
          "execution_count": 4
        }
      ]
    },
    {
      "cell_type": "code",
      "source": [
        "## WE can see the distribution of Solubility \n",
        "import seaborn as sns\n",
        "sns.distplot(data[\"measured log(solubility:mol/L)\"])"
      ],
      "metadata": {
        "colab": {
          "base_uri": "https://localhost:8080/",
          "height": 353
        },
        "id": "eYZczsB3zZO7",
        "outputId": "caa92011-a84b-46a9-f2a5-c2a39b71904d"
      },
      "execution_count": null,
      "outputs": [
        {
          "output_type": "stream",
          "name": "stderr",
          "text": [
            "/usr/local/lib/python3.7/dist-packages/seaborn/distributions.py:2619: FutureWarning: `distplot` is a deprecated function and will be removed in a future version. Please adapt your code to use either `displot` (a figure-level function with similar flexibility) or `histplot` (an axes-level function for histograms).\n",
            "  warnings.warn(msg, FutureWarning)\n"
          ]
        },
        {
          "output_type": "execute_result",
          "data": {
            "text/plain": [
              "<matplotlib.axes._subplots.AxesSubplot at 0x7f2354be04d0>"
            ]
          },
          "metadata": {},
          "execution_count": 5
        },
        {
          "output_type": "display_data",
          "data": {
            "text/plain": [
              "<Figure size 432x288 with 1 Axes>"
            ],
            "image/png": "[encoded data removed]"
          },
          "metadata": {
            "needs_background": "light"
          }
        }
      ]
    },
    {
      "cell_type": "code",
      "source": [
        "### selecting the range of LogS from the dataframe ....\n",
        "#df_new = data.loc[data['measured log(solubility:mol/L)'].between(-6,2,inclusive=False)]\n",
        "#df['two'].between(-0.5, 0.5, inclusive=False)"
      ],
      "metadata": {
        "id": "xJIqFW_wOlE2"
      },
      "execution_count": null,
      "outputs": []
    },
    {
      "cell_type": "code",
      "source": [
        "#print(len(df_new))"
      ],
      "metadata": {
        "id": "ZLwX8ensRxBj"
      },
      "execution_count": null,
      "outputs": []
    },
    {
      "cell_type": "code",
      "source": [
        "\n",
        "smiles_array=data.SMILES\n",
        "\n",
        "#smiles_array1=data1.Smiles"
      ],
      "metadata": {
        "id": "FO7EC_p49Vge"
      },
      "execution_count": null,
      "outputs": []
    },
    {
      "cell_type": "code",
      "source": [
        "print(type(smiles_array))"
      ],
      "metadata": {
        "colab": {
          "base_uri": "https://localhost:8080/"
        },
        "id": "Dx7FkKER5wA5",
        "outputId": "d09ab051-22e0-47ff-f0ce-ba7832c1f01d"
      },
      "execution_count": null,
      "outputs": [
        {
          "output_type": "stream",
          "name": "stdout",
          "text": [
            "<class 'pandas.core.series.Series'>\n"
          ]
        }
      ]
    },
    {
      "cell_type": "code",
      "source": [
        "print(len(smiles_array))"
      ],
      "metadata": {
        "colab": {
          "base_uri": "https://localhost:8080/"
        },
        "id": "nTIBZXDqGFRs",
        "outputId": "dbdebf96-7556-489b-ab89-d88d2287354e"
      },
      "execution_count": null,
      "outputs": [
        {
          "output_type": "stream",
          "name": "stdout",
          "text": [
            "1144\n"
          ]
        }
      ]
    },
    {
      "cell_type": "code",
      "source": [
        "from rdkit import Chem, DataStructs\n",
        "from rdkit.Chem import rdMolDescriptors, Draw\n",
        "from rdkit.Chem.Draw import IPythonConsole\n",
        "from rdkit.Chem.Fingerprints import FingerprintMols\n",
        "\n",
        "from rdkit.Chem import Descriptors\n",
        "from rdkit.Chem import Lipinski\n",
        "from rdkit.Chem import Crippen"
      ],
      "metadata": {
        "id": "_QUeQ1kE9irA"
      },
      "execution_count": null,
      "outputs": []
    },
    {
      "cell_type": "code",
      "source": [
        "#Turning SMILES into Explicit Bit Vectors (RDKit prefered format)\n",
        "mols = [Chem.rdmolfiles.MolFromSmiles(SMILES_string) for SMILES_string in smiles_array]\n",
        "\n",
        "\n",
        "#Convert training molecules into training fingerprints\n",
        "bi = {}\n",
        "fingerprints = [Chem.rdMolDescriptors.GetMorganFingerprintAsBitVect(m, radius=2, bitInfo= bi, nBits=512) for m in mols]\n",
        "\n",
        "#Convert training fingerprints into binary, and put all training binaries into arrays\n",
        "import numpy as np \n",
        "\n",
        "fingerprints_array = []\n",
        "for fingerprint in fingerprints:\n",
        "        array = np.zeros((1,), dtype= int)\n",
        "        DataStructs.ConvertToNumpyArray(fingerprint, array)\n",
        "        fingerprints_array.append(array)"
      ],
      "metadata": {
        "id": "jsFxm8539vPa"
      },
      "execution_count": null,
      "outputs": []
    },
    {
      "cell_type": "code",
      "source": [
        "### Write a function to calculate these values....\n",
        "\n",
        "def getAromaticProportion(m):\n",
        "    aromatic_list = [m.GetAtomWithIdx(i).GetIsAromatic() for i in range(m.GetNumAtoms())]\n",
        "    aromatic = 0\n",
        "    for i in aromatic_list:\n",
        "        if i:\n",
        "            aromatic += 1\n",
        "    heavy_atom = Lipinski.HeavyAtomCount(m)\n",
        "    return aromatic / heavy_atom\n",
        "\n",
        "\n",
        "def generate(smiles):\n",
        "    moldata = []\n",
        "    for elem in smiles:\n",
        "        mol = Chem.MolFromSmiles(elem)\n",
        "        moldata.append(mol)\n",
        "\n",
        "    baseData = np.arange(1, 1)\n",
        "    i = 0\n",
        "    for mol in moldata:\n",
        "\n",
        "        desc_MolLogP = Crippen.MolLogP(mol)\n",
        "        desc_MolWt = Descriptors.MolWt(mol)\n",
        "        desc_NumRotatableBonds = Lipinski.NumRotatableBonds(mol)\n",
        "        desc_AromaticProportion = getAromaticProportion(mol)\n",
        "        desc_Ringcount        =   Descriptors.RingCount(mol)\n",
        "        desc_TPSA = Descriptors.TPSA(mol)\n",
        "        desc_Hdonrs=Lipinski.NumHDonors(mol)\n",
        "        desc_SaturatedRings = Lipinski.NumSaturatedRings(mol)   \n",
        "        desc_AliphaticRings = Lipinski.NumAliphaticRings(mol) \n",
        "        desc_HAcceptors = Lipinski.NumHAcceptors(mol)\n",
        "        desc_Heteroatoms = Lipinski.NumHeteroatoms(mol)\n",
        "        #desc_molMR=Descriptors.MolMR(mol)\n",
        "        row = np.array([desc_MolLogP,\n",
        "                        desc_MolWt,\n",
        "                        desc_NumRotatableBonds,\n",
        "                        desc_AromaticProportion,desc_Ringcount,desc_TPSA,desc_Hdonrs,desc_SaturatedRings,desc_AliphaticRings,desc_HAcceptors,desc_Heteroatoms])\n",
        "\n",
        "        if i == 0:\n",
        "            baseData = row\n",
        "        else:\n",
        "            baseData = np.vstack([baseData, row])\n",
        "        i = i + 1\n",
        "\n",
        "    columnNames = [\"MolLogP\", \"MolWt\", \"NumRotatableBonds\", \"AromaticProportion\",\"Ring_Count\",\"TPSA\",\"H_donors\",\"Saturated_Rings\",\"AliphaticRings\",\"H_Acceptors\",\"Heteroatoms\"]\n",
        "    descriptors = pd.DataFrame(data=baseData, columns=columnNames)\n",
        "\n",
        "    return descriptors\n"
      ],
      "metadata": {
        "id": "g-NadAKF-J0e"
      },
      "execution_count": null,
      "outputs": []
    },
    {
      "cell_type": "code",
      "source": [
        "#!conda install -y boost-cpp boost py-boost"
      ],
      "metadata": {
        "id": "uzOSf0zq-MIf"
      },
      "execution_count": null,
      "outputs": []
    },
    {
      "cell_type": "code",
      "source": [
        "import numpy as np\n",
        "df=generate(smiles_array)\n",
        "#descriptors =generate(smiles_array)\n",
        "print(df)"
      ],
      "metadata": {
        "colab": {
          "base_uri": "https://localhost:8080/"
        },
        "id": "F_LzyAzc-pve",
        "outputId": "beba68e3-61b2-48c2-91cf-ab1a541ea59b"
      },
      "execution_count": null,
      "outputs": [
        {
          "output_type": "stream",
          "name": "stdout",
          "text": [
            "      MolLogP    MolWt  NumRotatableBonds  AromaticProportion  Ring_Count  \\\n",
            "0     2.59540  167.850                0.0            0.000000         0.0   \n",
            "1     2.37650  133.405                0.0            0.000000         0.0   \n",
            "2     2.59380  167.850                1.0            0.000000         0.0   \n",
            "3     2.02890  133.405                1.0            0.000000         0.0   \n",
            "4     2.91890  187.375                1.0            0.000000         0.0   \n",
            "...       ...      ...                ...                 ...         ...   \n",
            "1139  1.98820  287.343                8.0            0.000000         0.0   \n",
            "1140  3.42130  286.114                2.0            0.333333         2.0   \n",
            "1141  3.60960  308.333                4.0            0.695652         3.0   \n",
            "1142  2.56214  354.815                3.0            0.521739         2.0   \n",
            "1143  2.02164  179.219                1.0            0.461538         1.0   \n",
            "\n",
            "        TPSA  H_donors  Saturated_Rings  AliphaticRings  H_Acceptors  \\\n",
            "0       0.00       0.0              0.0             0.0          0.0   \n",
            "1       0.00       0.0              0.0             0.0          0.0   \n",
            "2       0.00       0.0              0.0             0.0          0.0   \n",
            "3       0.00       0.0              0.0             0.0          0.0   \n",
            "4       0.00       0.0              0.0             0.0          0.0   \n",
            "...      ...       ...              ...             ...          ...   \n",
            "1139   64.63       1.0              0.0             0.0          6.0   \n",
            "1140   46.61       0.0              1.0             1.0          3.0   \n",
            "1141   67.51       1.0              0.0             0.0          4.0   \n",
            "1142  109.49       3.0              0.0             0.0          4.0   \n",
            "1143   38.33       1.0              0.0             0.0          2.0   \n",
            "\n",
            "      Heteroatoms  \n",
            "0             4.0  \n",
            "1             3.0  \n",
            "2             4.0  \n",
            "3             3.0  \n",
            "4             6.0  \n",
            "...           ...  \n",
            "1139          8.0  \n",
            "1140          6.0  \n",
            "1141          4.0  \n",
            "1142          8.0  \n",
            "1143          3.0  \n",
            "\n",
            "[1144 rows x 11 columns]\n"
          ]
        }
      ]
    },
    {
      "cell_type": "code",
      "source": [
        "## Taking out the solubility from the dataset... \n",
        "Y = data.iloc[:,2].rename(\"LogS\")\n",
        "Y"
      ],
      "metadata": {
        "colab": {
          "base_uri": "https://localhost:8080/"
        },
        "id": "VTqxI5KKs03P",
        "outputId": "0917582a-4694-4b5c-b5ed-ac06ffe95177"
      },
      "execution_count": null,
      "outputs": [
        {
          "output_type": "execute_result",
          "data": {
            "text/plain": [
              "0      -2.794\n",
              "1      -2.232\n",
              "2      -2.549\n",
              "3      -1.961\n",
              "4      -3.077\n",
              "        ...  \n",
              "1139   -1.446\n",
              "1140   -4.377\n",
              "1141   -3.913\n",
              "1142   -3.642\n",
              "1143   -2.688\n",
              "Name: LogS, Length: 1144, dtype: float64"
            ]
          },
          "metadata": {},
          "execution_count": 16
        }
      ]
    },
    {
      "cell_type": "code",
      "source": [
        "dataset = pd.concat([df,Y],axis=1)"
      ],
      "metadata": {
        "id": "JbXhrkBRuB2O"
      },
      "execution_count": null,
      "outputs": []
    },
    {
      "cell_type": "code",
      "source": [
        "dataset.isnull().values.any().sum()"
      ],
      "metadata": {
        "colab": {
          "base_uri": "https://localhost:8080/"
        },
        "id": "ZNQXv-aR_ZNL",
        "outputId": "730ae37e-2fbb-4bf4-ef31-ed0d826afa87"
      },
      "execution_count": null,
      "outputs": [
        {
          "output_type": "execute_result",
          "data": {
            "text/plain": [
              "0"
            ]
          },
          "metadata": {},
          "execution_count": 18
        }
      ]
    },
    {
      "cell_type": "code",
      "source": [
        "dataset = dataset.dropna()"
      ],
      "metadata": {
        "id": "hX_LcEDQDz2t"
      },
      "execution_count": null,
      "outputs": []
    },
    {
      "cell_type": "code",
      "source": [
        "dataset.isnull().values.any().sum()"
      ],
      "metadata": {
        "colab": {
          "base_uri": "https://localhost:8080/"
        },
        "id": "znJjDH16D5QC",
        "outputId": "964e0059-24ea-44b2-b5c0-9ec585f05a51"
      },
      "execution_count": null,
      "outputs": [
        {
          "output_type": "execute_result",
          "data": {
            "text/plain": [
              "0"
            ]
          },
          "metadata": {},
          "execution_count": 20
        }
      ]
    },
    {
      "cell_type": "code",
      "source": [
        "##Normalization\n",
        "##In the table of statistics it's easy to see how different the ranges of each feature are:\n",
        "\n",
        "dataset.describe().transpose()[['mean', 'std']]"
      ],
      "metadata": {
        "colab": {
          "base_uri": "https://localhost:8080/",
          "height": 426
        },
        "id": "lEUzYXlelpQD",
        "outputId": "30b03ad3-43cb-47c3-e47e-4ce9ff32f5ee"
      },
      "execution_count": null,
      "outputs": [
        {
          "output_type": "execute_result",
          "data": {
            "text/plain": [
              "                          mean         std\n",
              "MolLogP               2.449133    1.866003\n",
              "MolWt               204.631675  102.620500\n",
              "NumRotatableBonds     2.173951    2.627398\n",
              "AromaticProportion    0.364932    0.343305\n",
              "Ring_Count            1.396853    1.316105\n",
              "TPSA                 35.058829   35.694546\n",
              "H_donors              0.708916    1.108335\n",
              "Saturated_Rings       0.312937    0.838680\n",
              "AliphaticRings        0.462413    1.050094\n",
              "H_Acceptors           2.116259    2.165816\n",
              "Heteroatoms           3.378497    2.805305\n",
              "LogS                 -2.994776    1.686520"
            ],
            "text/html": [
              "\n",
              "  <div id=\"df-427f1863-5e92-474d-be6b-07a6b5db065e\">\n",
              "    <div class=\"colab-df-container\">\n",
              "      <div>\n",
              "<style scoped>\n",
              "    .dataframe tbody tr th:only-of-type {\n",
              "        vertical-align: middle;\n",
              "    }\n",
              "\n",
              "    .dataframe tbody tr th {\n",
              "        vertical-align: top;\n",
              "    }\n",
              "\n",
              "    .dataframe thead th {\n",
              "        text-align: right;\n",
              "    }\n",
              "</style>\n",
              "<table border=\"1\" class=\"dataframe\">\n",
              "  <thead>\n",
              "    <tr style=\"text-align: right;\">\n",
              "      <th></th>\n",
              "      <th>mean</th>\n",
              "      <th>std</th>\n",
              "    </tr>\n",
              "  </thead>\n",
              "  <tbody>\n",
              "    <tr>\n",
              "      <th>MolLogP</th>\n",
              "      <td>2.449133</td>\n",
              "      <td>1.866003</td>\n",
              "    </tr>\n",
              "    <tr>\n",
              "      <th>MolWt</th>\n",
              "      <td>204.631675</td>\n",
              "      <td>102.620500</td>\n",
              "    </tr>\n",
              "    <tr>\n",
              "      <th>NumRotatableBonds</th>\n",
              "      <td>2.173951</td>\n",
              "      <td>2.627398</td>\n",
              "    </tr>\n",
              "    <tr>\n",
              "      <th>AromaticProportion</th>\n",
              "      <td>0.364932</td>\n",
              "      <td>0.343305</td>\n",
              "    </tr>\n",
              "    <tr>\n",
              "      <th>Ring_Count</th>\n",
              "      <td>1.396853</td>\n",
              "      <td>1.316105</td>\n",
              "    </tr>\n",
              "    <tr>\n",
              "      <th>TPSA</th>\n",
              "      <td>35.058829</td>\n",
              "      <td>35.694546</td>\n",
              "    </tr>\n",
              "    <tr>\n",
              "      <th>H_donors</th>\n",
              "      <td>0.708916</td>\n",
              "      <td>1.108335</td>\n",
              "    </tr>\n",
              "    <tr>\n",
              "      <th>Saturated_Rings</th>\n",
              "      <td>0.312937</td>\n",
              "      <td>0.838680</td>\n",
              "    </tr>\n",
              "    <tr>\n",
              "      <th>AliphaticRings</th>\n",
              "      <td>0.462413</td>\n",
              "      <td>1.050094</td>\n",
              "    </tr>\n",
              "    <tr>\n",
              "      <th>H_Acceptors</th>\n",
              "      <td>2.116259</td>\n",
              "      <td>2.165816</td>\n",
              "    </tr>\n",
              "    <tr>\n",
              "      <th>Heteroatoms</th>\n",
              "      <td>3.378497</td>\n",
              "      <td>2.805305</td>\n",
              "    </tr>\n",
              "    <tr>\n",
              "      <th>LogS</th>\n",
              "      <td>-2.994776</td>\n",
              "      <td>1.686520</td>\n",
              "    </tr>\n",
              "  </tbody>\n",
              "</table>\n",
              "</div>\n",
              "      <button class=\"colab-df-convert\" onclick=\"convertToInteractive('df-427f1863-5e92-474d-be6b-07a6b5db065e')\"\n",
              "              title=\"Convert this dataframe to an interactive table.\"\n",
              "              style=\"display:none;\">\n",
              "        \n",
              "  <svg xmlns=\"http://www.w3.org/2000/svg\" height=\"24px\"viewBox=\"0 0 24 24\"\n",
              "       width=\"24px\">\n",
              "    <path d=\"M0 0h24v24H0V0z\" fill=\"none\"/>\n",
              "    <path d=\"M18.56 5.44l.94 2.06.94-2.06 2.06-.94-2.06-.94-.94-2.06-.94 2.06-2.06.94zm-11 1L8.5 8.5l.94-2.06 2.06-.94-2.06-.94L8.5 2.5l-.94 2.06-2.06.94zm10 10l.94 2.06.94-2.06 2.06-.94-2.06-.94-.94-2.06-.94 2.06-2.06.94z\"/><path d=\"M17.41 7.96l-1.37-1.37c-.4-.4-.92-.59-1.43-.59-.52 0-1.04.2-1.43.59L10.3 9.45l-7.72 7.72c-.78.78-.78 2.05 0 2.83L4 21.41c.39.39.9.59 1.41.59.51 0 1.02-.2 1.41-.59l7.78-7.78 2.81-2.81c.8-.78.8-2.07 0-2.86zM5.41 20L4 18.59l7.72-7.72 1.47 1.35L5.41 20z\"/>\n",
              "  </svg>\n",
              "      </button>\n",
              "      \n",
              "  <style>\n",
              "    .colab-df-container {\n",
              "      display:flex;\n",
              "      flex-wrap:wrap;\n",
              "      gap: 12px;\n",
              "    }\n",
              "\n",
              "    .colab-df-convert {\n",
              "      background-color: #E8F0FE;\n",
              "      border: none;\n",
              "      border-radius: 50%;\n",
              "      cursor: pointer;\n",
              "      display: none;\n",
              "      fill: #1967D2;\n",
              "      height: 32px;\n",
              "      padding: 0 0 0 0;\n",
              "      width: 32px;\n",
              "    }\n",
              "\n",
              "    .colab-df-convert:hover {\n",
              "      background-color: #E2EBFA;\n",
              "      box-shadow: 0px 1px 2px rgba(60, 64, 67, 0.3), 0px 1px 3px 1px rgba(60, 64, 67, 0.15);\n",
              "      fill: #174EA6;\n",
              "    }\n",
              "\n",
              "    [theme=dark] .colab-df-convert {\n",
              "      background-color: #3B4455;\n",
              "      fill: #D2E3FC;\n",
              "    }\n",
              "\n",
              "    [theme=dark] .colab-df-convert:hover {\n",
              "      background-color: #434B5C;\n",
              "      box-shadow: 0px 1px 3px 1px rgba(0, 0, 0, 0.15);\n",
              "      filter: drop-shadow(0px 1px 2px rgba(0, 0, 0, 0.3));\n",
              "      fill: #FFFFFF;\n",
              "    }\n",
              "  </style>\n",
              "\n",
              "      <script>\n",
              "        const buttonEl =\n",
              "          document.querySelector('#df-427f1863-5e92-474d-be6b-07a6b5db065e button.colab-df-convert');\n",
              "        buttonEl.style.display =\n",
              "          google.colab.kernel.accessAllowed ? 'block' : 'none';\n",
              "\n",
              "        async function convertToInteractive(key) {\n",
              "          const element = document.querySelector('#df-427f1863-5e92-474d-be6b-07a6b5db065e');\n",
              "          const dataTable =\n",
              "            await google.colab.kernel.invokeFunction('convertToInteractive',\n",
              "                                                     [key], {});\n",
              "          if (!dataTable) return;\n",
              "\n",
              "          const docLinkHtml = 'Like what you see? Visit the ' +\n",
              "            '<a target=\"_blank\" href=https://colab.research.google.com/notebooks/data_table.ipynb>data table notebook</a>'\n",
              "            + ' to learn more about interactive tables.';\n",
              "          element.innerHTML = '';\n",
              "          dataTable['output_type'] = 'display_data';\n",
              "          await google.colab.output.renderOutput(dataTable, element);\n",
              "          const docLink = document.createElement('div');\n",
              "          docLink.innerHTML = docLinkHtml;\n",
              "          element.appendChild(docLink);\n",
              "        }\n",
              "      </script>\n",
              "    </div>\n",
              "  </div>\n",
              "  "
            ]
          },
          "metadata": {},
          "execution_count": 21
        }
      ]
    },
    {
      "cell_type": "code",
      "source": [
        "fingerprints_array=pd.DataFrame(fingerprints_array)\n",
        "df1=pd.concat([fingerprints_array,dataset],axis=1)\n",
        "#df1#df1 = np.append(fingerprints_array, df, axis = 1)\n",
        "print(df1.shape)"
      ],
      "metadata": {
        "id": "4ZUuquI0_o2r",
        "colab": {
          "base_uri": "https://localhost:8080/"
        },
        "outputId": "9a994080-0645-45c6-f1a9-2ed1d26e7055"
      },
      "execution_count": null,
      "outputs": [
        {
          "output_type": "stream",
          "name": "stdout",
          "text": [
            "(1144, 524)\n"
          ]
        }
      ]
    },
    {
      "cell_type": "code",
      "source": [
        "## Split the data into training and test sets\n",
        "## Now, split the dataset into a training set and a test set. We will use the test set in the final evaluation of our models.\n",
        "\n",
        "train_dataset = df1.sample(frac=0.8, random_state=0)\n",
        "test_dataset = df1.drop(train_dataset.index)"
      ],
      "metadata": {
        "id": "FG-8JLSH82q1"
      },
      "execution_count": null,
      "outputs": []
    },
    {
      "cell_type": "code",
      "source": [
        "## Split features from labels\n",
        "#Separate the target value—the \"label\"—from the features. This label is the solubility \n",
        "#of the compound that we will train the model to predict for new compound .....\n",
        "\n",
        "train_features = train_dataset.copy()\n",
        "test_features = test_dataset.copy()\n",
        "\n",
        "train_labels = train_features.pop('LogS')\n",
        "test_labels = test_features.pop('LogS')"
      ],
      "metadata": {
        "id": "m1WXjTJd8CWu"
      },
      "execution_count": null,
      "outputs": []
    },
    {
      "cell_type": "code",
      "source": [
        "train_features = train_features.replace((np.inf, -np.inf, np.nan), 0).reset_index(drop=True)\n",
        "test_features = test_features.replace((np.inf, -np.inf, np.nan), 0).reset_index(drop=True)\n",
        "train_labels = train_labels.replace((np.inf, -np.inf, np.nan), 0).reset_index(drop=True)\n",
        "test_labels = test_labels.replace((np.inf, -np.inf, np.nan), 0).reset_index(drop=True)"
      ],
      "metadata": {
        "id": "WxLj4HZi4QcM"
      },
      "execution_count": null,
      "outputs": []
    },
    {
      "cell_type": "code",
      "source": [
        "print(type(train_features))\n",
        "print(type(train_labels))\n",
        "print(type(test_features))\n",
        "print(type(test_labels))"
      ],
      "metadata": {
        "colab": {
          "base_uri": "https://localhost:8080/"
        },
        "id": "ekfWeQHPLjf0",
        "outputId": "01916ce8-ae6c-4298-db6e-007e8c38919c"
      },
      "execution_count": null,
      "outputs": [
        {
          "output_type": "stream",
          "name": "stdout",
          "text": [
            "<class 'pandas.core.frame.DataFrame'>\n",
            "<class 'pandas.core.series.Series'>\n",
            "<class 'pandas.core.frame.DataFrame'>\n",
            "<class 'pandas.core.series.Series'>\n"
          ]
        }
      ]
    },
    {
      "cell_type": "code",
      "source": [
        "print(len(train_features))\n",
        "print(len(train_labels))\n",
        "print(len(test_features))\n",
        "print(len(test_labels))"
      ],
      "metadata": {
        "colab": {
          "base_uri": "https://localhost:8080/"
        },
        "id": "nMAx9jv8NRz6",
        "outputId": "ac473a0d-c6eb-4ac5-f780-4980e86e5318"
      },
      "execution_count": null,
      "outputs": [
        {
          "output_type": "stream",
          "name": "stdout",
          "text": [
            "915\n",
            "915\n",
            "229\n",
            "229\n"
          ]
        }
      ]
    },
    {
      "cell_type": "code",
      "source": [
        "import numpy as np\n",
        "#from sklearn import datasets\n",
        "from sklearn.model_selection import train_test_split\n",
        "from keras import models\n",
        "from keras import layers\n",
        "from keras import optimizers\n",
        "import tensorflow as tf\n",
        "from keras.layers import Dropout\n",
        "from keras.layers.advanced_activations import LeakyReLU"
      ],
      "metadata": {
        "id": "uqGGPbio0_Mx"
      },
      "execution_count": null,
      "outputs": []
    },
    {
      "cell_type": "code",
      "source": [
        "from sklearn.model_selection import KFold\n",
        "import numpy as np\n",
        "\n",
        "# Merge inputs and targets\n",
        "inputs = np.concatenate((train_features, test_features), axis=0)\n",
        "targets = np.concatenate((train_labels, test_labels), axis=0)\n",
        "num_folds=5\n",
        "batch_size=20\n",
        "no_epochs=35\n",
        "mae_per_fold = []\n",
        "loss_per_fold = []\n",
        "\n",
        "# Define the K-fold Cross Validator\n",
        "kfold = KFold(n_splits=num_folds, shuffle=True)\n",
        "\n",
        "\n",
        "# K-fold Cross Validation model evaluation\n",
        "fold_var = 1\n",
        "for train, test in kfold.split(inputs, targets):\n",
        "  # Define the model architecture\n",
        "  network = models.Sequential()\n",
        "  network.add(layers.Dense(512, activation='relu', input_shape=(523,)))\n",
        "  #network.add(layers.Dense(512, activation='relu'))\n",
        " \n",
        "  #network.add(Dropout(0.1))\n",
        "  network.add(layers.Dense(256, activation='relu'))\n",
        "  #network.add(Dropout(0.1))\n",
        "  network.add(layers.Dense(128, activation='relu'))\n",
        "  #network.add(Dropout(0.1))\n",
        "  network.add(layers.Dense(64, activation='relu'))\n",
        "  network.add(layers.Dense(32, activation='relu'))\n",
        "  #network.add(layers.Dense(16, activation='relu'))\n",
        "\n",
        "  network.add(layers.Dense(1))\n",
        "#\n",
        "# Configure the network with optimizer, loss function and accuracy\n",
        "#tf.optimizers.Adam(learning_rate=0.1)\n",
        "\n",
        "#\n",
        "  network.compile(loss='mse', optimizer=tf.optimizers.Adam(learning_rate=0.01), metrics=['mae'])\n",
        "\n",
        "#network.compile(optimizer=tf.optimizers.Adam(learning_rate=0.01),\n",
        "                #loss='mse',\n",
        "               # metrics=['mae'])\n",
        "  #checkpoint = tf.keras.callbacks.ModelCheckpoint(save_dir+get_model_name(fold_var), monitor='val_mae', verbose=1,save_best_only=True, mode='max')\n",
        "  #callbacks_list = [checkpoint]             \n",
        "\n",
        "\n",
        "  # Generate a print\n",
        "  print('------------------------------------------------------------------------')\n",
        "  print(f'Training for fold {fold_var} ...')\n",
        "\n",
        "  # Fit data to model\n",
        "  history = network.fit(inputs[train], targets[train],\n",
        "              batch_size=batch_size,\n",
        "              epochs=no_epochs\n",
        "              )\n",
        "\n",
        "  # Generate generalization metrics\n",
        "  scores = network.evaluate(inputs[test], targets[test], verbose=0)\n",
        "  #print(f'Score for fold {fold_var}: {network.metrics_names[0]} of {scores[0]}; {network.metrics_names[1]} of {scores[1]*100}%')\n",
        "  mae_per_fold.append(scores[1] )\n",
        "  loss_per_fold.append(scores[0])\n",
        "\n",
        "  # Increase fold number\n",
        "  fold_var = fold_var + 1\n",
        "  # == Provide average scores ==\n",
        "print('------------------------------------------------------------------------')\n",
        "print('Score per fold')\n",
        "for i in range(0, len(mae_per_fold)):\n",
        "  print('------------------------------------------------------------------------')\n",
        "  print(f'> Fold {i+1} - Loss: {loss_per_fold[i]} - Absolute Error: {mae_per_fold[i]}%')\n",
        "  print('------------------------------------------------------------------------')\n",
        "print('Average scores for all folds:')\n",
        "print(f'> Absolute Error: {np.mean(mae_per_fold)} (+- {np.std(mae_per_fold)})')\n",
        "print(f'> Loss: {np.mean(loss_per_fold)}')\n",
        "print('------------------------------------------------------------------------')"
      ],
      "metadata": {
        "colab": {
          "base_uri": "https://localhost:8080/"
        },
        "id": "R1kWua5MvoJ8",
        "outputId": "8189594d-906e-494b-ccaf-7d794a88cb77"
      },
      "execution_count": null,
      "outputs": [
        {
          "output_type": "stream",
          "name": "stdout",
          "text": [
            "------------------------------------------------------------------------\n",
            "Training for fold 1 ...\n",
            "Epoch 1/35\n",
            "46/46 [==============================] - 1s 6ms/step - loss: 171.2818 - mae: 2.7832\n",
            "Epoch 2/35\n",
            "46/46 [==============================] - 0s 7ms/step - loss: 1.6936 - mae: 0.8365\n",
            "Epoch 3/35\n",
            "46/46 [==============================] - 0s 7ms/step - loss: 0.3357 - mae: 0.4261\n",
            "Epoch 4/35\n",
            "46/46 [==============================] - 0s 7ms/step - loss: 0.2092 - mae: 0.3439\n",
            "Epoch 5/35\n",
            "46/46 [==============================] - 0s 7ms/step - loss: 0.1445 - mae: 0.2872\n",
            "Epoch 6/35\n",
            "46/46 [==============================] - 0s 6ms/step - loss: 0.1299 - mae: 0.2736\n",
            "Epoch 7/35\n",
            "46/46 [==============================] - 0s 6ms/step - loss: 0.1539 - mae: 0.3017\n",
            "Epoch 8/35\n",
            "46/46 [==============================] - 0s 6ms/step - loss: 0.1184 - mae: 0.2684\n",
            "Epoch 9/35\n",
            "46/46 [==============================] - 0s 6ms/step - loss: 0.0889 - mae: 0.2286\n",
            "Epoch 10/35\n",
            "46/46 [==============================] - 0s 6ms/step - loss: 0.0945 - mae: 0.2355\n",
            "Epoch 11/35\n",
            "46/46 [==============================] - 0s 6ms/step - loss: 0.0769 - mae: 0.2127\n",
            "Epoch 12/35\n",
            "46/46 [==============================] - 0s 7ms/step - loss: 0.0741 - mae: 0.2092\n",
            "Epoch 13/35\n",
            "46/46 [==============================] - 0s 7ms/step - loss: 0.0718 - mae: 0.2032\n",
            "Epoch 14/35\n",
            "46/46 [==============================] - 0s 7ms/step - loss: 0.0548 - mae: 0.1773\n",
            "Epoch 15/35\n",
            "46/46 [==============================] - 0s 6ms/step - loss: 0.0534 - mae: 0.1810\n",
            "Epoch 16/35\n",
            "46/46 [==============================] - 0s 7ms/step - loss: 0.0678 - mae: 0.1985\n",
            "Epoch 17/35\n",
            "46/46 [==============================] - 0s 7ms/step - loss: 0.1051 - mae: 0.2523\n",
            "Epoch 18/35\n",
            "46/46 [==============================] - 0s 6ms/step - loss: 0.0492 - mae: 0.1664\n",
            "Epoch 19/35\n",
            "46/46 [==============================] - 0s 7ms/step - loss: 0.0433 - mae: 0.1570\n",
            "Epoch 20/35\n",
            "46/46 [==============================] - 0s 6ms/step - loss: 0.0339 - mae: 0.1383\n",
            "Epoch 21/35\n",
            "46/46 [==============================] - 0s 6ms/step - loss: 0.0251 - mae: 0.1155\n",
            "Epoch 22/35\n",
            "46/46 [==============================] - 0s 7ms/step - loss: 0.0316 - mae: 0.1321\n",
            "Epoch 23/35\n",
            "46/46 [==============================] - 0s 6ms/step - loss: 0.0355 - mae: 0.1423\n",
            "Epoch 24/35\n",
            "46/46 [==============================] - 0s 7ms/step - loss: 0.0281 - mae: 0.1235\n",
            "Epoch 25/35\n",
            "46/46 [==============================] - 0s 7ms/step - loss: 0.0576 - mae: 0.1777\n",
            "Epoch 26/35\n",
            "46/46 [==============================] - 0s 6ms/step - loss: 0.0479 - mae: 0.1635\n",
            "Epoch 27/35\n",
            "46/46 [==============================] - 0s 7ms/step - loss: 0.0274 - mae: 0.1246\n",
            "Epoch 28/35\n",
            "46/46 [==============================] - 0s 6ms/step - loss: 0.0212 - mae: 0.1044\n",
            "Epoch 29/35\n",
            "46/46 [==============================] - 0s 6ms/step - loss: 0.0166 - mae: 0.0911\n",
            "Epoch 30/35\n",
            "46/46 [==============================] - 0s 6ms/step - loss: 0.0170 - mae: 0.0916\n",
            "Epoch 31/35\n",
            "46/46 [==============================] - 0s 7ms/step - loss: 0.0493 - mae: 0.1500\n",
            "Epoch 32/35\n",
            "46/46 [==============================] - 0s 7ms/step - loss: 0.0431 - mae: 0.1542\n",
            "Epoch 33/35\n",
            "46/46 [==============================] - 0s 7ms/step - loss: 0.0530 - mae: 0.1771\n",
            "Epoch 34/35\n",
            "46/46 [==============================] - 0s 6ms/step - loss: 0.0293 - mae: 0.1250\n",
            "Epoch 35/35\n",
            "46/46 [==============================] - 0s 6ms/step - loss: 0.0218 - mae: 0.1101\n",
            "------------------------------------------------------------------------\n",
            "Training for fold 2 ...\n",
            "Epoch 1/35\n",
            "46/46 [==============================] - 1s 6ms/step - loss: 152.0331 - mae: 3.5426\n",
            "Epoch 2/35\n",
            "46/46 [==============================] - 0s 6ms/step - loss: 0.4183 - mae: 0.4960\n",
            "Epoch 3/35\n",
            "46/46 [==============================] - 0s 7ms/step - loss: 0.1917 - mae: 0.3331\n",
            "Epoch 4/35\n",
            "46/46 [==============================] - 0s 7ms/step - loss: 0.2264 - mae: 0.3491\n",
            "Epoch 5/35\n",
            "46/46 [==============================] - 0s 6ms/step - loss: 0.1543 - mae: 0.2970\n",
            "Epoch 6/35\n",
            "46/46 [==============================] - 0s 7ms/step - loss: 0.0871 - mae: 0.2183\n",
            "Epoch 7/35\n",
            "46/46 [==============================] - 0s 7ms/step - loss: 0.0758 - mae: 0.2082\n",
            "Epoch 8/35\n",
            "46/46 [==============================] - 0s 6ms/step - loss: 0.0569 - mae: 0.1794\n",
            "Epoch 9/35\n",
            "46/46 [==============================] - 0s 7ms/step - loss: 0.0508 - mae: 0.1736\n",
            "Epoch 10/35\n",
            "46/46 [==============================] - 0s 6ms/step - loss: 0.0889 - mae: 0.2224\n",
            "Epoch 11/35\n",
            "46/46 [==============================] - 0s 7ms/step - loss: 0.1240 - mae: 0.2568\n",
            "Epoch 12/35\n",
            "46/46 [==============================] - 0s 7ms/step - loss: 0.0607 - mae: 0.1873\n",
            "Epoch 13/35\n",
            "46/46 [==============================] - 0s 7ms/step - loss: 0.0454 - mae: 0.1633\n",
            "Epoch 14/35\n",
            "46/46 [==============================] - 0s 7ms/step - loss: 0.0326 - mae: 0.1394\n",
            "Epoch 15/35\n",
            "46/46 [==============================] - 0s 6ms/step - loss: 0.0428 - mae: 0.1586\n",
            "Epoch 16/35\n",
            "46/46 [==============================] - 0s 7ms/step - loss: 0.0291 - mae: 0.1299\n",
            "Epoch 17/35\n",
            "46/46 [==============================] - 0s 6ms/step - loss: 0.0278 - mae: 0.1314\n",
            "Epoch 18/35\n",
            "46/46 [==============================] - 0s 6ms/step - loss: 0.0204 - mae: 0.1082\n",
            "Epoch 19/35\n",
            "46/46 [==============================] - 0s 7ms/step - loss: 0.0206 - mae: 0.1114\n",
            "Epoch 20/35\n",
            "46/46 [==============================] - 0s 6ms/step - loss: 0.0190 - mae: 0.1069\n",
            "Epoch 21/35\n",
            "46/46 [==============================] - 0s 6ms/step - loss: 0.0213 - mae: 0.1113\n",
            "Epoch 22/35\n",
            "46/46 [==============================] - 0s 6ms/step - loss: 0.0205 - mae: 0.1093\n",
            "Epoch 23/35\n",
            "46/46 [==============================] - 0s 6ms/step - loss: 0.0180 - mae: 0.1014\n",
            "Epoch 24/35\n",
            "46/46 [==============================] - 0s 6ms/step - loss: 0.0133 - mae: 0.0854\n",
            "Epoch 25/35\n",
            "46/46 [==============================] - 0s 6ms/step - loss: 0.0145 - mae: 0.0939\n",
            "Epoch 26/35\n",
            "46/46 [==============================] - 0s 6ms/step - loss: 0.0148 - mae: 0.0927\n",
            "Epoch 27/35\n",
            "46/46 [==============================] - 0s 7ms/step - loss: 0.0126 - mae: 0.0852\n",
            "Epoch 28/35\n",
            "46/46 [==============================] - 0s 7ms/step - loss: 0.0094 - mae: 0.0739\n",
            "Epoch 29/35\n",
            "46/46 [==============================] - 0s 6ms/step - loss: 0.0096 - mae: 0.0745\n",
            "Epoch 30/35\n",
            "46/46 [==============================] - 0s 6ms/step - loss: 0.0078 - mae: 0.0673\n",
            "Epoch 31/35\n",
            "46/46 [==============================] - 0s 6ms/step - loss: 0.0108 - mae: 0.0782\n",
            "Epoch 32/35\n",
            "46/46 [==============================] - 0s 6ms/step - loss: 0.0168 - mae: 0.0966\n",
            "Epoch 33/35\n",
            "46/46 [==============================] - 0s 6ms/step - loss: 0.0143 - mae: 0.0903\n",
            "Epoch 34/35\n",
            "46/46 [==============================] - 0s 6ms/step - loss: 0.0204 - mae: 0.1083\n",
            "Epoch 35/35\n",
            "46/46 [==============================] - 0s 6ms/step - loss: 0.0160 - mae: 0.0981\n",
            "------------------------------------------------------------------------\n",
            "Training for fold 3 ...\n",
            "Epoch 1/35\n",
            "46/46 [==============================] - 1s 6ms/step - loss: 20.9710 - mae: 2.5427\n",
            "Epoch 2/35\n",
            "46/46 [==============================] - 0s 6ms/step - loss: 0.8291 - mae: 0.6607\n",
            "Epoch 3/35\n",
            "46/46 [==============================] - 0s 6ms/step - loss: 0.2838 - mae: 0.3966\n",
            "Epoch 4/35\n",
            "46/46 [==============================] - 0s 6ms/step - loss: 0.1613 - mae: 0.3004\n",
            "Epoch 5/35\n",
            "46/46 [==============================] - 0s 7ms/step - loss: 0.1534 - mae: 0.3020\n",
            "Epoch 6/35\n",
            "46/46 [==============================] - 0s 7ms/step - loss: 0.1195 - mae: 0.2645\n",
            "Epoch 7/35\n",
            "46/46 [==============================] - 0s 6ms/step - loss: 0.1440 - mae: 0.2925\n",
            "Epoch 8/35\n",
            "46/46 [==============================] - 0s 6ms/step - loss: 0.1061 - mae: 0.2498\n",
            "Epoch 9/35\n",
            "46/46 [==============================] - 0s 7ms/step - loss: 0.1292 - mae: 0.2801\n",
            "Epoch 10/35\n",
            "46/46 [==============================] - 0s 7ms/step - loss: 0.0754 - mae: 0.2044\n",
            "Epoch 11/35\n",
            "46/46 [==============================] - 0s 6ms/step - loss: 0.0726 - mae: 0.2038\n",
            "Epoch 12/35\n",
            "46/46 [==============================] - 0s 7ms/step - loss: 0.0890 - mae: 0.2278\n",
            "Epoch 13/35\n",
            "46/46 [==============================] - 0s 7ms/step - loss: 0.1824 - mae: 0.3221\n",
            "Epoch 14/35\n",
            "46/46 [==============================] - 0s 6ms/step - loss: 0.0914 - mae: 0.2265\n",
            "Epoch 15/35\n",
            "46/46 [==============================] - 0s 7ms/step - loss: 0.1410 - mae: 0.2730\n",
            "Epoch 16/35\n",
            "46/46 [==============================] - 0s 7ms/step - loss: 0.0672 - mae: 0.1943\n",
            "Epoch 17/35\n",
            "46/46 [==============================] - 0s 6ms/step - loss: 0.4492 - mae: 0.4475\n",
            "Epoch 18/35\n",
            "46/46 [==============================] - 0s 6ms/step - loss: 0.1423 - mae: 0.2772\n",
            "Epoch 19/35\n",
            "46/46 [==============================] - 0s 6ms/step - loss: 0.0679 - mae: 0.1904\n",
            "Epoch 20/35\n",
            "46/46 [==============================] - 0s 7ms/step - loss: 0.3469 - mae: 0.3888\n",
            "Epoch 21/35\n",
            "46/46 [==============================] - 0s 7ms/step - loss: 0.0773 - mae: 0.2047\n",
            "Epoch 22/35\n",
            "46/46 [==============================] - 0s 7ms/step - loss: 0.0676 - mae: 0.1948\n",
            "Epoch 23/35\n",
            "46/46 [==============================] - 0s 6ms/step - loss: 0.0444 - mae: 0.1553\n",
            "Epoch 24/35\n",
            "46/46 [==============================] - 0s 6ms/step - loss: 0.0417 - mae: 0.1528\n",
            "Epoch 25/35\n",
            "46/46 [==============================] - 0s 7ms/step - loss: 0.0383 - mae: 0.1453\n",
            "Epoch 26/35\n",
            "46/46 [==============================] - 0s 6ms/step - loss: 0.0337 - mae: 0.1348\n",
            "Epoch 27/35\n",
            "46/46 [==============================] - 0s 6ms/step - loss: 0.0343 - mae: 0.1348\n",
            "Epoch 28/35\n",
            "46/46 [==============================] - 0s 6ms/step - loss: 0.0308 - mae: 0.1279\n",
            "Epoch 29/35\n",
            "46/46 [==============================] - 0s 6ms/step - loss: 0.0298 - mae: 0.1247\n",
            "Epoch 30/35\n",
            "46/46 [==============================] - 0s 6ms/step - loss: 0.0350 - mae: 0.1304\n",
            "Epoch 31/35\n",
            "46/46 [==============================] - 0s 6ms/step - loss: 0.0287 - mae: 0.1238\n",
            "Epoch 32/35\n",
            "46/46 [==============================] - 0s 6ms/step - loss: 0.0320 - mae: 0.1318\n",
            "Epoch 33/35\n",
            "46/46 [==============================] - 0s 6ms/step - loss: 0.0251 - mae: 0.1161\n",
            "Epoch 34/35\n",
            "46/46 [==============================] - 0s 7ms/step - loss: 0.0323 - mae: 0.1300\n",
            "Epoch 35/35\n",
            "46/46 [==============================] - 0s 6ms/step - loss: 0.0303 - mae: 0.1287\n",
            "------------------------------------------------------------------------\n",
            "Training for fold 4 ...\n",
            "Epoch 1/35\n",
            "46/46 [==============================] - 1s 6ms/step - loss: 71.4988 - mae: 3.3953\n",
            "Epoch 2/35\n",
            "46/46 [==============================] - 0s 6ms/step - loss: 0.5881 - mae: 0.5800\n",
            "Epoch 3/35\n",
            "46/46 [==============================] - 0s 7ms/step - loss: 0.2817 - mae: 0.3997\n",
            "Epoch 4/35\n",
            "46/46 [==============================] - 0s 7ms/step - loss: 0.1744 - mae: 0.3218\n",
            "Epoch 5/35\n",
            "46/46 [==============================] - 0s 7ms/step - loss: 0.1365 - mae: 0.2866\n",
            "Epoch 6/35\n",
            "46/46 [==============================] - 0s 7ms/step - loss: 0.1137 - mae: 0.2550\n",
            "Epoch 7/35\n",
            "46/46 [==============================] - 0s 6ms/step - loss: 0.0971 - mae: 0.2427\n",
            "Epoch 8/35\n",
            "46/46 [==============================] - 0s 6ms/step - loss: 0.0969 - mae: 0.2414\n",
            "Epoch 9/35\n",
            "46/46 [==============================] - 0s 7ms/step - loss: 0.0832 - mae: 0.2249\n",
            "Epoch 10/35\n",
            "46/46 [==============================] - 0s 7ms/step - loss: 0.1333 - mae: 0.2624\n",
            "Epoch 11/35\n",
            "46/46 [==============================] - 0s 7ms/step - loss: 0.1346 - mae: 0.2702\n",
            "Epoch 12/35\n",
            "46/46 [==============================] - 0s 7ms/step - loss: 0.0629 - mae: 0.1929\n",
            "Epoch 13/35\n",
            "46/46 [==============================] - 0s 6ms/step - loss: 0.0579 - mae: 0.1853\n",
            "Epoch 14/35\n",
            "46/46 [==============================] - 0s 6ms/step - loss: 0.0647 - mae: 0.1953\n",
            "Epoch 15/35\n",
            "46/46 [==============================] - 0s 6ms/step - loss: 0.0536 - mae: 0.1758\n",
            "Epoch 16/35\n",
            "46/46 [==============================] - 0s 7ms/step - loss: 0.0462 - mae: 0.1641\n",
            "Epoch 17/35\n",
            "46/46 [==============================] - 0s 6ms/step - loss: 0.0383 - mae: 0.1478\n",
            "Epoch 18/35\n",
            "46/46 [==============================] - 0s 7ms/step - loss: 0.0485 - mae: 0.1647\n",
            "Epoch 19/35\n",
            "46/46 [==============================] - 0s 7ms/step - loss: 0.0526 - mae: 0.1714\n",
            "Epoch 20/35\n",
            "46/46 [==============================] - 0s 7ms/step - loss: 0.0472 - mae: 0.1641\n",
            "Epoch 21/35\n",
            "46/46 [==============================] - 0s 6ms/step - loss: 0.0352 - mae: 0.1434\n",
            "Epoch 22/35\n",
            "46/46 [==============================] - 0s 7ms/step - loss: 0.0437 - mae: 0.1569\n",
            "Epoch 23/35\n",
            "46/46 [==============================] - 0s 6ms/step - loss: 0.0380 - mae: 0.1448\n",
            "Epoch 24/35\n",
            "46/46 [==============================] - 0s 7ms/step - loss: 0.0335 - mae: 0.1359\n",
            "Epoch 25/35\n",
            "46/46 [==============================] - 0s 7ms/step - loss: 0.0400 - mae: 0.1518\n",
            "Epoch 26/35\n",
            "46/46 [==============================] - 0s 6ms/step - loss: 0.0511 - mae: 0.1726\n",
            "Epoch 27/35\n",
            "46/46 [==============================] - 0s 6ms/step - loss: 0.0268 - mae: 0.1211\n",
            "Epoch 28/35\n",
            "46/46 [==============================] - 0s 6ms/step - loss: 0.0191 - mae: 0.0991\n",
            "Epoch 29/35\n",
            "46/46 [==============================] - 0s 7ms/step - loss: 0.0252 - mae: 0.1172\n",
            "Epoch 30/35\n",
            "46/46 [==============================] - 0s 7ms/step - loss: 0.0355 - mae: 0.1451\n",
            "Epoch 31/35\n",
            "46/46 [==============================] - 0s 7ms/step - loss: 0.0346 - mae: 0.1369\n",
            "Epoch 32/35\n",
            "46/46 [==============================] - 0s 7ms/step - loss: 0.0228 - mae: 0.1107\n",
            "Epoch 33/35\n",
            "46/46 [==============================] - 0s 7ms/step - loss: 0.0432 - mae: 0.1532\n",
            "Epoch 34/35\n",
            "46/46 [==============================] - 0s 6ms/step - loss: 0.4789 - mae: 0.4400\n",
            "Epoch 35/35\n",
            "46/46 [==============================] - 0s 7ms/step - loss: 0.5259 - mae: 0.4980\n",
            "------------------------------------------------------------------------\n",
            "Training for fold 5 ...\n",
            "Epoch 1/35\n",
            "46/46 [==============================] - 1s 7ms/step - loss: 184.9783 - mae: 3.9343\n",
            "Epoch 2/35\n",
            "46/46 [==============================] - 0s 7ms/step - loss: 0.4667 - mae: 0.5202\n",
            "Epoch 3/35\n",
            "46/46 [==============================] - 0s 7ms/step - loss: 0.2128 - mae: 0.3459\n",
            "Epoch 4/35\n",
            "46/46 [==============================] - 0s 7ms/step - loss: 0.1558 - mae: 0.3038\n",
            "Epoch 5/35\n",
            "46/46 [==============================] - 0s 6ms/step - loss: 0.1234 - mae: 0.2646\n",
            "Epoch 6/35\n",
            "46/46 [==============================] - 0s 7ms/step - loss: 0.1566 - mae: 0.3037\n",
            "Epoch 7/35\n",
            "46/46 [==============================] - 0s 6ms/step - loss: 0.0874 - mae: 0.2267\n",
            "Epoch 8/35\n",
            "46/46 [==============================] - 0s 7ms/step - loss: 0.0745 - mae: 0.2042\n",
            "Epoch 9/35\n",
            "46/46 [==============================] - 0s 6ms/step - loss: 0.0620 - mae: 0.1884\n",
            "Epoch 10/35\n",
            "46/46 [==============================] - 0s 7ms/step - loss: 0.0646 - mae: 0.1940\n",
            "Epoch 11/35\n",
            "46/46 [==============================] - 0s 7ms/step - loss: 0.0569 - mae: 0.1791\n",
            "Epoch 12/35\n",
            "46/46 [==============================] - 0s 7ms/step - loss: 0.0752 - mae: 0.2135\n",
            "Epoch 13/35\n",
            "46/46 [==============================] - 0s 6ms/step - loss: 0.0636 - mae: 0.1898\n",
            "Epoch 14/35\n",
            "46/46 [==============================] - 0s 6ms/step - loss: 0.0494 - mae: 0.1689\n",
            "Epoch 15/35\n",
            "46/46 [==============================] - 0s 6ms/step - loss: 0.0437 - mae: 0.1585\n",
            "Epoch 16/35\n",
            "46/46 [==============================] - 0s 7ms/step - loss: 0.0335 - mae: 0.1364\n",
            "Epoch 17/35\n",
            "46/46 [==============================] - 0s 7ms/step - loss: 0.0535 - mae: 0.1724\n",
            "Epoch 18/35\n",
            "46/46 [==============================] - 0s 7ms/step - loss: 0.0544 - mae: 0.1734\n",
            "Epoch 19/35\n",
            "46/46 [==============================] - 0s 6ms/step - loss: 0.0452 - mae: 0.1604\n",
            "Epoch 20/35\n",
            "46/46 [==============================] - 0s 6ms/step - loss: 0.0497 - mae: 0.1701\n",
            "Epoch 21/35\n",
            "46/46 [==============================] - 0s 7ms/step - loss: 0.0698 - mae: 0.2041\n",
            "Epoch 22/35\n",
            "46/46 [==============================] - 0s 8ms/step - loss: 0.0959 - mae: 0.2380\n",
            "Epoch 23/35\n",
            "46/46 [==============================] - 0s 7ms/step - loss: 0.0498 - mae: 0.1687\n",
            "Epoch 24/35\n",
            "46/46 [==============================] - 0s 7ms/step - loss: 0.0312 - mae: 0.1318\n",
            "Epoch 25/35\n",
            "46/46 [==============================] - 0s 7ms/step - loss: 0.0206 - mae: 0.1060\n",
            "Epoch 26/35\n",
            "46/46 [==============================] - 0s 7ms/step - loss: 0.0175 - mae: 0.0967\n",
            "Epoch 27/35\n",
            "46/46 [==============================] - 0s 6ms/step - loss: 0.0156 - mae: 0.0914\n",
            "Epoch 28/35\n",
            "46/46 [==============================] - 0s 6ms/step - loss: 0.0212 - mae: 0.1069\n",
            "Epoch 29/35\n",
            "46/46 [==============================] - 0s 7ms/step - loss: 0.0207 - mae: 0.1064\n",
            "Epoch 30/35\n",
            "46/46 [==============================] - 0s 6ms/step - loss: 0.0247 - mae: 0.1179\n",
            "Epoch 31/35\n",
            "46/46 [==============================] - 0s 7ms/step - loss: 0.0200 - mae: 0.1035\n",
            "Epoch 32/35\n",
            "46/46 [==============================] - 0s 7ms/step - loss: 0.0133 - mae: 0.0855\n",
            "Epoch 33/35\n",
            "46/46 [==============================] - 0s 7ms/step - loss: 0.0161 - mae: 0.0955\n",
            "Epoch 34/35\n",
            "46/46 [==============================] - 0s 7ms/step - loss: 0.0218 - mae: 0.1048\n",
            "Epoch 35/35\n",
            "46/46 [==============================] - 0s 7ms/step - loss: 0.0144 - mae: 0.0863\n",
            "------------------------------------------------------------------------\n",
            "Score per fold\n",
            "------------------------------------------------------------------------\n",
            "> Fold 1 - Loss: 0.14524266123771667 - Absolute Error: 0.26168081164360046%\n",
            "------------------------------------------------------------------------\n",
            "------------------------------------------------------------------------\n",
            "> Fold 2 - Loss: 0.1339450180530548 - Absolute Error: 0.24395664036273956%\n",
            "------------------------------------------------------------------------\n",
            "------------------------------------------------------------------------\n",
            "> Fold 3 - Loss: 0.1385570615530014 - Absolute Error: 0.26693540811538696%\n",
            "------------------------------------------------------------------------\n",
            "------------------------------------------------------------------------\n",
            "> Fold 4 - Loss: 0.19754967093467712 - Absolute Error: 0.33632180094718933%\n",
            "------------------------------------------------------------------------\n",
            "------------------------------------------------------------------------\n",
            "> Fold 5 - Loss: 0.12526291608810425 - Absolute Error: 0.25503775477409363%\n",
            "------------------------------------------------------------------------\n",
            "Average scores for all folds:\n",
            "> Absolute Error: 0.272786483168602 (+- 0.03268175276926997)\n",
            "> Loss: 0.14811146557331084\n",
            "------------------------------------------------------------------------\n"
          ]
        }
      ]
    },
    {
      "cell_type": "code",
      "source": [
        "# Importing required library ...\n",
        "import matplotlib.pyplot as plt\n",
        "import numpy as np\n",
        "import pandas as pd\n",
        "import seaborn as sns\n",
        "network = models.Sequential()\n",
        "  #network.add(layers.Dense(1024, activation='relu', input_shape=(11,)))\n",
        "network.add(layers.Dense(512, activation='relu',input_shape=(523,)))\n",
        " \n",
        "  #network.add(Dropout(0.1))\n",
        "network.add(layers.Dense(256, activation='relu'))\n",
        "  #network.add(Dropout(0.1))\n",
        "network.add(layers.Dense(128, activation='relu'))\n",
        "  #network.add(Dropout(0.1))\n",
        "network.add(layers.Dense(64, activation='relu'))\n",
        "network.add(layers.Dense(32, activation='relu'))\n",
        "  #network.add(layers.Dense(16, activation='relu'))\n",
        "\n",
        "network.add(layers.Dense(1))\n",
        "#\n",
        "# Configure the network with optimizer, loss function and accuracy\n",
        "#tf.optimizers.Adam(learning_rate=0.1)\n",
        "\n",
        "#\n",
        "network.compile(loss='mse', optimizer=tf.optimizers.Adam(learning_rate=0.01), metrics=['mae'])\n",
        "\n",
        "  # Fit data to model\n",
        "history = network.fit(train_features, train_labels,\n",
        "                    validation_data=(test_features, test_labels),\n",
        "                    epochs=35,\n",
        "                    batch_size=20)"
      ],
      "metadata": {
        "colab": {
          "base_uri": "https://localhost:8080/"
        },
        "id": "hyiLBamg5mIt",
        "outputId": "9a1060be-76d2-4da3-de44-d8416faeaee4"
      },
      "execution_count": null,
      "outputs": [
        {
          "output_type": "stream",
          "name": "stdout",
          "text": [
            "Epoch 1/35\n",
            "46/46 [==============================] - 1s 12ms/step - loss: 94.8519 - mae: 2.7170 - val_loss: 0.5970 - val_mae: 0.6308\n",
            "Epoch 2/35\n",
            "46/46 [==============================] - 0s 8ms/step - loss: 0.3421 - mae: 0.4502 - val_loss: 0.1947 - val_mae: 0.3301\n",
            "Epoch 3/35\n",
            "46/46 [==============================] - 0s 8ms/step - loss: 0.2910 - mae: 0.4060 - val_loss: 0.4743 - val_mae: 0.5353\n",
            "Epoch 4/35\n",
            "46/46 [==============================] - 0s 8ms/step - loss: 0.1890 - mae: 0.3267 - val_loss: 0.1558 - val_mae: 0.2844\n",
            "Epoch 5/35\n",
            "46/46 [==============================] - 0s 9ms/step - loss: 0.1262 - mae: 0.2623 - val_loss: 0.1651 - val_mae: 0.2999\n",
            "Epoch 6/35\n",
            "46/46 [==============================] - 0s 9ms/step - loss: 0.1180 - mae: 0.2500 - val_loss: 0.3211 - val_mae: 0.4280\n",
            "Epoch 7/35\n",
            "46/46 [==============================] - 0s 9ms/step - loss: 0.1199 - mae: 0.2500 - val_loss: 0.1671 - val_mae: 0.2981\n",
            "Epoch 8/35\n",
            "46/46 [==============================] - 0s 8ms/step - loss: 0.1265 - mae: 0.2644 - val_loss: 0.1751 - val_mae: 0.3282\n",
            "Epoch 9/35\n",
            "46/46 [==============================] - 0s 8ms/step - loss: 0.0800 - mae: 0.2129 - val_loss: 0.2280 - val_mae: 0.3705\n",
            "Epoch 10/35\n",
            "46/46 [==============================] - 0s 7ms/step - loss: 0.0828 - mae: 0.2185 - val_loss: 0.1331 - val_mae: 0.2725\n",
            "Epoch 11/35\n",
            "46/46 [==============================] - 0s 8ms/step - loss: 0.0661 - mae: 0.1920 - val_loss: 0.1415 - val_mae: 0.2894\n",
            "Epoch 12/35\n",
            "46/46 [==============================] - 0s 8ms/step - loss: 0.0537 - mae: 0.1706 - val_loss: 0.1852 - val_mae: 0.3338\n",
            "Epoch 13/35\n",
            "46/46 [==============================] - 0s 8ms/step - loss: 0.0567 - mae: 0.1807 - val_loss: 0.1383 - val_mae: 0.2827\n",
            "Epoch 14/35\n",
            "46/46 [==============================] - 0s 7ms/step - loss: 0.0665 - mae: 0.1922 - val_loss: 0.1736 - val_mae: 0.3300\n",
            "Epoch 15/35\n",
            "46/46 [==============================] - 0s 9ms/step - loss: 0.0535 - mae: 0.1725 - val_loss: 0.1318 - val_mae: 0.2690\n",
            "Epoch 16/35\n",
            "46/46 [==============================] - 0s 8ms/step - loss: 0.0550 - mae: 0.1713 - val_loss: 0.1309 - val_mae: 0.2740\n",
            "Epoch 17/35\n",
            "46/46 [==============================] - 0s 9ms/step - loss: 0.0407 - mae: 0.1503 - val_loss: 0.1311 - val_mae: 0.2629\n",
            "Epoch 18/35\n",
            "46/46 [==============================] - 0s 8ms/step - loss: 0.0361 - mae: 0.1407 - val_loss: 0.2251 - val_mae: 0.3685\n",
            "Epoch 19/35\n",
            "46/46 [==============================] - 0s 7ms/step - loss: 0.0707 - mae: 0.1912 - val_loss: 0.1822 - val_mae: 0.2972\n",
            "Epoch 20/35\n",
            "46/46 [==============================] - 0s 7ms/step - loss: 0.0997 - mae: 0.2298 - val_loss: 0.1900 - val_mae: 0.3303\n",
            "Epoch 21/35\n",
            "46/46 [==============================] - 0s 7ms/step - loss: 0.0723 - mae: 0.1921 - val_loss: 0.1488 - val_mae: 0.2793\n",
            "Epoch 22/35\n",
            "46/46 [==============================] - 0s 8ms/step - loss: 0.0395 - mae: 0.1477 - val_loss: 0.1325 - val_mae: 0.2599\n",
            "Epoch 23/35\n",
            "46/46 [==============================] - 0s 8ms/step - loss: 0.0400 - mae: 0.1478 - val_loss: 0.1336 - val_mae: 0.2603\n",
            "Epoch 24/35\n",
            "46/46 [==============================] - 0s 8ms/step - loss: 0.0343 - mae: 0.1386 - val_loss: 0.1284 - val_mae: 0.2571\n",
            "Epoch 25/35\n",
            "46/46 [==============================] - 0s 8ms/step - loss: 0.0300 - mae: 0.1281 - val_loss: 0.1461 - val_mae: 0.2701\n",
            "Epoch 26/35\n",
            "46/46 [==============================] - 0s 7ms/step - loss: 0.0330 - mae: 0.1380 - val_loss: 0.1335 - val_mae: 0.2582\n",
            "Epoch 27/35\n",
            "46/46 [==============================] - 0s 8ms/step - loss: 0.0210 - mae: 0.1061 - val_loss: 0.1308 - val_mae: 0.2566\n",
            "Epoch 28/35\n",
            "46/46 [==============================] - 0s 8ms/step - loss: 0.0331 - mae: 0.1360 - val_loss: 0.1351 - val_mae: 0.2626\n",
            "Epoch 29/35\n",
            "46/46 [==============================] - 0s 8ms/step - loss: 0.0280 - mae: 0.1206 - val_loss: 0.1426 - val_mae: 0.2625\n",
            "Epoch 30/35\n",
            "46/46 [==============================] - 0s 8ms/step - loss: 0.0223 - mae: 0.1102 - val_loss: 0.1481 - val_mae: 0.2755\n",
            "Epoch 31/35\n",
            "46/46 [==============================] - 0s 9ms/step - loss: 0.0260 - mae: 0.1174 - val_loss: 0.1447 - val_mae: 0.2633\n",
            "Epoch 32/35\n",
            "46/46 [==============================] - 0s 8ms/step - loss: 0.0229 - mae: 0.1107 - val_loss: 0.1486 - val_mae: 0.2750\n",
            "Epoch 33/35\n",
            "46/46 [==============================] - 0s 8ms/step - loss: 0.0259 - mae: 0.1167 - val_loss: 0.1421 - val_mae: 0.2641\n",
            "Epoch 34/35\n",
            "46/46 [==============================] - 0s 8ms/step - loss: 0.0265 - mae: 0.1209 - val_loss: 0.1668 - val_mae: 0.2904\n",
            "Epoch 35/35\n",
            "46/46 [==============================] - 0s 7ms/step - loss: 0.0270 - mae: 0.1238 - val_loss: 0.1487 - val_mae: 0.2639\n"
          ]
        }
      ]
    },
    {
      "cell_type": "code",
      "source": [
        "from sklearn.metrics import mean_squared_error, r2_score\n",
        "print(network.summary())\n",
        "\n",
        "#create callback\n",
        "#filepath = '/content/drive/MyDrive/my_best_model_14_05_11.hdf5'\n",
        "\n",
        "#plot the training history\n",
        "# summarize history for loss\n",
        "plt.plot(history.history['loss'])\n",
        "plt.plot(history.history['val_loss'])\n",
        "plt.title('model loss')\n",
        "plt.ylabel('loss')\n",
        "plt.xlabel('epoch')\n",
        "plt.legend(['train', 'test'], loc='upper left')\n",
        "plt.show()\n",
        "\n",
        "#plt.plot(history.history['loss'], label='Training Loss')\n",
        "#plt.plot(history.history['val_loss'], label='Validation Loss')\n",
        "#plt.legend()\n",
        "#plt.xlabel('Epochs')\n",
        "#plt.ylabel('Mean Squared Error')\n",
        "#plt.savefig('model_training_history')\n",
        "#plt.show()\n",
        "\n",
        "#Load and evaluate the best model version\n",
        "#model = load_model(filepath)\n",
        "Y_test_predicted = network.predict(test_features)\n",
        "print('Mean squared error (MSE): %.2f'%  mean_squared_error(test_labels, Y_test_predicted))\n",
        "print('Coefficient of determination (R^2): %.2f'% r2_score(test_labels,Y_test_predicted))\n"
      ],
      "metadata": {
        "colab": {
          "base_uri": "https://localhost:8080/",
          "height": 724
        },
        "id": "VdQ3h2naAY8W",
        "outputId": "4312bf76-6f50-465f-9263-d001ac285294"
      },
      "execution_count": null,
      "outputs": [
        {
          "output_type": "stream",
          "name": "stdout",
          "text": [
            "Model: \"sequential_16\"\n",
            "_________________________________________________________________\n",
            " Layer (type)                Output Shape              Param #   \n",
            "=================================================================\n",
            " dense_96 (Dense)            (None, 512)               268288    \n",
            "                                                                 \n",
            " dense_97 (Dense)            (None, 256)               131328    \n",
            "                                                                 \n",
            " dense_98 (Dense)            (None, 128)               32896     \n",
            "                                                                 \n",
            " dense_99 (Dense)            (None, 64)                8256      \n",
            "                                                                 \n",
            " dense_100 (Dense)           (None, 32)                2080      \n",
            "                                                                 \n",
            " dense_101 (Dense)           (None, 1)                 33        \n",
            "                                                                 \n",
            "=================================================================\n",
            "Total params: 442,881\n",
            "Trainable params: 442,881\n",
            "Non-trainable params: 0\n",
            "_________________________________________________________________\n",
            "None\n"
          ]
        },
        {
          "output_type": "display_data",
          "data": {
            "text/plain": [
              "<Figure size 432x288 with 1 Axes>"
            ],
            "image/png": "[encoded data removed]"
          },
          "metadata": {
            "needs_background": "light"
          }
        },
        {
          "output_type": "stream",
          "name": "stdout",
          "text": [
            "Mean squared error (MSE): 0.15\n",
            "Coefficient of determination (R^2): 0.95\n"
          ]
        }
      ]
    },
    {
      "cell_type": "code",
      "source": [
        "##Evaluating the Model Accuracy and Loss using Learning Curve\n",
        "##The output of the training is a history object which records the loss and accuracy metric after each epoch. \n",
        "##The loss and accuracy metric (mae) is measured for training and validation data set after each epoch. \n",
        "##The same is plotted to understand aspects such as overfitting and select the most appropriate model. \n",
        "##Below is the code for plotting the learning curve.\n",
        "\n",
        "import matplotlib.pyplot as plt\n",
        " \n",
        "history_dict = history.history\n",
        "loss_values = history_dict['loss']\n",
        "val_loss_values = history_dict['val_loss']\n",
        "mae = history_dict['mae']\n",
        "val_mae = history_dict['val_mae']\n",
        " \n",
        "epochs = range(1, len(loss_values) + 1)\n",
        "fig, ax = plt.subplots(1, 2, figsize=(14, 6))\n",
        "#\n",
        "# Plot the model accuracy (MAE) vs Epochs\n",
        "#\n",
        "ax[0].plot(epochs, mae, 'bo', label='Training Error')\n",
        "ax[0].plot(epochs, val_mae, 'b', label='Validation Error')\n",
        "ax[0].set_title('Training & Validation Error', fontsize=16)\n",
        "ax[0].set_xlabel('Epochs', fontsize=16)\n",
        "ax[0].set_ylabel('Error', fontsize=16)\n",
        "ax[0].legend()\n",
        "\n",
        "# Plot the loss vs Epochs\n",
        "ax[1].plot(epochs, loss_values, 'bo', label='Training loss')\n",
        "ax[1].plot(epochs, val_loss_values, 'b', label='Validation loss')\n",
        "ax[1].set_title('Training & Validation Loss', fontsize=16)\n",
        "ax[1].set_xlabel('Epochs', fontsize=16)\n",
        "ax[1].set_ylabel('Loss', fontsize=16)\n",
        "ax[1].legend()"
      ],
      "metadata": {
        "colab": {
          "base_uri": "https://localhost:8080/",
          "height": 429
        },
        "id": "Vsm6NdXw5Fgu",
        "outputId": "b1e78f48-b1a4-4382-bb91-5eff671f4088"
      },
      "execution_count": null,
      "outputs": [
        {
          "output_type": "execute_result",
          "data": {
            "text/plain": [
              "<matplotlib.legend.Legend at 0x7f22d6886250>"
            ]
          },
          "metadata": {},
          "execution_count": 72
        },
        {
          "output_type": "display_data",
          "data": {
            "text/plain": [
              "<Figure size 1008x432 with 2 Axes>"
            ],
            "image/png": "[encoded data removed]"
          },
          "metadata": {
            "needs_background": "light"
          }
        }
      ]
    },
    {
      "cell_type": "code",
      "source": [
        "Y_test_predited=network.predict(test_features)"
      ],
      "metadata": {
        "id": "1z9xGVPxo5Tl"
      },
      "execution_count": null,
      "outputs": []
    },
    {
      "cell_type": "code",
      "source": [
        "print(len(Y_test_predited))"
      ],
      "metadata": {
        "id": "IUr-4OtPMpA_",
        "colab": {
          "base_uri": "https://localhost:8080/"
        },
        "outputId": "66c884a7-05bd-4a79-ea52-8eb9d5e3dbac"
      },
      "execution_count": null,
      "outputs": [
        {
          "output_type": "stream",
          "name": "stdout",
          "text": [
            "229\n"
          ]
        }
      ]
    },
    {
      "cell_type": "code",
      "source": [
        "test_labels=test_labels.to_numpy(dtype ='float32')\n",
        "train_labels=train_labels.to_numpy(dtype ='float32')"
      ],
      "metadata": {
        "id": "y3SkiwuJq3rb",
        "colab": {
          "base_uri": "https://localhost:8080/",
          "height": 187
        },
        "outputId": "9738b22b-8bd6-4190-ca2a-135ef100ea0e"
      },
      "execution_count": null,
      "outputs": [
        {
          "output_type": "error",
          "ename": "AttributeError",
          "evalue": "ignored",
          "traceback": [
            "\u001b[0;31m---------------------------------------------------------------------------\u001b[0m",
            "\u001b[0;31mAttributeError\u001b[0m                            Traceback (most recent call last)",
            "\u001b[0;32m<ipython-input-76-9ece81d4f868>\u001b[0m in \u001b[0;36m<module>\u001b[0;34m()\u001b[0m\n\u001b[0;32m----> 1\u001b[0;31m \u001b[0mtest_labels\u001b[0m\u001b[0;34m=\u001b[0m\u001b[0mtest_labels\u001b[0m\u001b[0;34m.\u001b[0m\u001b[0mto_numpy\u001b[0m\u001b[0;34m(\u001b[0m\u001b[0mdtype\u001b[0m \u001b[0;34m=\u001b[0m\u001b[0;34m'float32'\u001b[0m\u001b[0;34m)\u001b[0m\u001b[0;34m\u001b[0m\u001b[0;34m\u001b[0m\u001b[0m\n\u001b[0m\u001b[1;32m      2\u001b[0m \u001b[0mtrain_labels\u001b[0m\u001b[0;34m=\u001b[0m\u001b[0mtrain_labels\u001b[0m\u001b[0;34m.\u001b[0m\u001b[0mto_numpy\u001b[0m\u001b[0;34m(\u001b[0m\u001b[0mdtype\u001b[0m \u001b[0;34m=\u001b[0m\u001b[0;34m'float32'\u001b[0m\u001b[0;34m)\u001b[0m\u001b[0;34m\u001b[0m\u001b[0;34m\u001b[0m\u001b[0m\n",
            "\u001b[0;31mAttributeError\u001b[0m: 'numpy.ndarray' object has no attribute 'to_numpy'"
          ]
        }
      ]
    },
    {
      "cell_type": "code",
      "source": [
        "print(np.concatenate((Y_test_predited.reshape(len(Y_test_predited),1), test_labels.reshape(len(test_labels),1)),1))"
      ],
      "metadata": {
        "colab": {
          "base_uri": "https://localhost:8080/"
        },
        "id": "Uamh5oGAROZA",
        "outputId": "90f21b46-30c8-4b91-e71d-7f54e03ba347"
      },
      "execution_count": null,
      "outputs": [
        {
          "output_type": "stream",
          "name": "stdout",
          "text": [
            "[[-3.8067412  -4.008     ]\n",
            " [-1.6455659  -1.374     ]\n",
            " [-1.7051997  -1.794     ]\n",
            " [-2.7322016  -2.697     ]\n",
            " [-2.2908397  -2.281     ]\n",
            " [-3.363729   -3.375     ]\n",
            " [-4.4117174  -4.147     ]\n",
            " [-3.3764737  -3.542     ]\n",
            " [-1.668779   -1.655     ]\n",
            " [-3.1368792  -3.003     ]\n",
            " [-2.7540476  -2.648     ]\n",
            " [-5.0837426  -4.94      ]\n",
            " [-2.3589964  -2.364     ]\n",
            " [-1.4493033  -1.199     ]\n",
            " [-5.398817   -4.889     ]\n",
            " [-4.7503824  -4.478     ]\n",
            " [-2.9214573  -3.08      ]\n",
            " [-2.6268396  -2.721     ]\n",
            " [-1.0573957  -1.042     ]\n",
            " [-1.9688092  -2.01      ]\n",
            " [-4.341037   -4.231     ]\n",
            " [-8.611479   -8.468     ]\n",
            " [-6.044342   -6.079     ]\n",
            " [-8.071162   -7.898     ]\n",
            " [-6.110014   -6.155     ]\n",
            " [-2.7626703  -2.922     ]\n",
            " [-7.4862647  -7.343     ]\n",
            " [-2.4200153  -2.584     ]\n",
            " [-2.6755931  -2.938     ]\n",
            " [-6.3671627  -6.312     ]\n",
            " [-4.806587   -4.335     ]\n",
            " [-5.6457586  -5.686     ]\n",
            " [-5.645759   -5.686     ]\n",
            " [-5.8472934  -5.762     ]\n",
            " [-5.6357813  -5.604     ]\n",
            " [-0.55587393 -1.647     ]\n",
            " [-2.7920876  -2.604     ]\n",
            " [-2.6266685  -2.912     ]\n",
            " [-2.1581082  -1.94      ]\n",
            " [-2.567599   -2.553     ]\n",
            " [-2.6918437  -2.617     ]\n",
            " [-1.3226992  -1.381     ]\n",
            " [-1.4603323  -1.523     ]\n",
            " [-1.6405991  -1.678     ]\n",
            " [-1.5928624  -1.554     ]\n",
            " [-2.3030057  -2.348     ]\n",
            " [-1.0407435  -0.954     ]\n",
            " [-1.5833968  -1.891     ]\n",
            " [-3.1992052  -3.08      ]\n",
            " [-2.1264682  -1.761     ]\n",
            " [-0.4824088  -0.261     ]\n",
            " [-1.1434349  -1.365     ]\n",
            " [-3.1037278  -3.057     ]\n",
            " [-4.7708936  -4.685     ]\n",
            " [-2.6528945  -2.761     ]\n",
            " [-2.4795847  -2.723     ]\n",
            " [-0.86767673 -0.954     ]\n",
            " [-0.9391433  -0.912     ]\n",
            " [-1.8449517  -2.017     ]\n",
            " [-3.2935212  -3.308     ]\n",
            " [-2.8049157  -2.981     ]\n",
            " [-3.0186648  -3.132     ]\n",
            " [-1.6887048  -1.62      ]\n",
            " [-1.604704   -1.24      ]\n",
            " [-2.5647957  -2.219     ]\n",
            " [-2.0398078  -2.126     ]\n",
            " [-1.0882751  -1.013     ]\n",
            " [-6.0477667  -5.931     ]\n",
            " [-0.15167509 -0.184     ]\n",
            " [-1.0942155  -1.255     ]\n",
            " [-2.6224036  -3.066     ]\n",
            " [-1.3026758  -0.84      ]\n",
            " [-3.538629   -3.43      ]\n",
            " [-3.1771784  -2.677     ]\n",
            " [-0.6990732  -0.674     ]\n",
            " [-2.2350466  -2.312     ]\n",
            " [-2.8826926  -3.254     ]\n",
            " [-1.4045917  -1.632     ]\n",
            " [-3.1143177  -3.34      ]\n",
            " [-6.1564293  -6.007     ]\n",
            " [-5.1689997  -5.189     ]\n",
            " [-3.5456333  -3.148     ]\n",
            " [-1.8451879  -2.03      ]\n",
            " [-4.721142   -5.062     ]\n",
            " [-7.8973455  -7.877     ]\n",
            " [-3.1977134  -3.345     ]\n",
            " [-1.6343656  -1.529     ]\n",
            " [-5.755677   -5.604     ]\n",
            " [-1.7868837  -1.907     ]\n",
            " [-1.7394887  -2.398     ]\n",
            " [-0.65086836 -0.749     ]\n",
            " [-3.6062138  -3.629     ]\n",
            " [-4.699785   -4.438     ]\n",
            " [-2.3974173  -2.679     ]\n",
            " [-4.38669    -5.194     ]\n",
            " [-2.3034716  -2.421     ]\n",
            " [-2.0926476  -2.16      ]\n",
            " [-1.4456329  -1.405     ]\n",
            " [-2.0484114  -2.14      ]\n",
            " [-2.2420697  -2.038     ]\n",
            " [-1.8890632  -1.72      ]\n",
            " [-1.7450918  -2.629     ]\n",
            " [-0.5658492   0.051     ]\n",
            " [-4.14682    -4.557     ]\n",
            " [-6.530815   -6.553     ]\n",
            " [-8.072369   -7.44      ]\n",
            " [-3.9661946  -3.939     ]\n",
            " [-4.257757   -4.182     ]\n",
            " [-1.4526268  -1.156     ]\n",
            " [-4.5415916  -4.692     ]\n",
            " [-6.1305714  -5.758     ]\n",
            " [-4.109773   -2.958     ]\n",
            " [-2.8999538  -2.162     ]\n",
            " [-2.3732514  -2.426     ]\n",
            " [-4.397893   -3.831     ]\n",
            " [-4.4713287  -4.479     ]\n",
            " [-7.453619   -7.148     ]\n",
            " [-3.5744731  -3.857     ]\n",
            " [-3.7099824  -3.992     ]\n",
            " [-3.5875688  -3.429     ]\n",
            " [-3.4613943  -3.152     ]\n",
            " [-3.855885   -3.858     ]\n",
            " [-5.016219   -5.063     ]\n",
            " [-3.4219093  -3.316     ]\n",
            " [-1.079698   -1.072     ]\n",
            " [-2.3476238  -2.383     ]\n",
            " [-4.9938626  -3.292     ]\n",
            " [-3.0720172  -2.675     ]\n",
            " [-2.034748   -1.847     ]\n",
            " [-2.4080048  -2.514     ]\n",
            " [-3.2154436  -3.065     ]\n",
            " [-6.0770917  -4.249     ]\n",
            " [-3.2065005  -1.846     ]\n",
            " [-1.3430372  -1.391     ]\n",
            " [-1.5072107  -2.591     ]\n",
            " [-1.1125469  -0.67      ]\n",
            " [-2.0978024  -1.795     ]\n",
            " [-4.817752   -4.546     ]\n",
            " [-4.3447886  -4.22      ]\n",
            " [ 0.6802427   0.603     ]\n",
            " [-1.9397535  -1.72      ]\n",
            " [-4.1317177  -3.876     ]\n",
            " [-1.049016   -0.656     ]\n",
            " [-2.5997617  -2.654     ]\n",
            " [-1.1276827  -1.463     ]\n",
            " [-1.2234519  -1.74      ]\n",
            " [-1.2470882  -0.717     ]\n",
            " [-0.9556611  -0.684     ]\n",
            " [-2.851541   -3.603     ]\n",
            " [ 0.6802427   1.071     ]\n",
            " [-2.3180099  -2.399     ]\n",
            " [-3.7743936  -3.75      ]\n",
            " [-4.2975674  -4.731     ]\n",
            " [-2.655819   -3.391     ]\n",
            " [ 0.6802427   0.647     ]\n",
            " [-4.329813   -4.504     ]\n",
            " [-1.7679671  -1.376     ]\n",
            " [-3.2590585  -2.87      ]\n",
            " [-4.499696   -3.881     ]\n",
            " [-5.2393303  -4.795     ]\n",
            " [-3.6557102  -3.259     ]\n",
            " [-2.2608747  -2.462     ]\n",
            " [-1.4359936  -1.545     ]\n",
            " [-0.21042454 -0.048     ]\n",
            " [-1.518668   -1.621     ]\n",
            " [-2.4941688  -2.452     ]\n",
            " [-4.4494095  -3.777     ]\n",
            " [-2.2551181  -2.324     ]\n",
            " [-6.813878   -6.155     ]\n",
            " [-2.1179218  -1.936     ]\n",
            " [-1.489278   -1.493     ]\n",
            " [-2.71697    -2.671     ]\n",
            " [-4.9113235  -5.032     ]\n",
            " [-3.8614795  -3.557     ]\n",
            " [-3.2243288  -3.473     ]\n",
            " [-2.094176   -1.243     ]\n",
            " [-1.8768488  -2.47      ]\n",
            " [-5.800665   -6.008     ]\n",
            " [-2.2475567  -2.392     ]\n",
            " [-3.861502   -3.84      ]\n",
            " [-2.5905232  -2.318     ]\n",
            " [-3.1156988  -3.004     ]\n",
            " [-4.2041335  -3.739     ]\n",
            " [-2.6470485  -2.613     ]\n",
            " [-3.0538359  -3.012     ]\n",
            " [-2.8017488  -2.642     ]\n",
            " [-2.6113524  -3.131     ]\n",
            " [-3.0830812  -3.382     ]\n",
            " [-2.1225603  -2.261     ]\n",
            " [-2.6436515  -2.181     ]\n",
            " [-2.2859716  -3.057     ]\n",
            " [-5.2715063  -5.024     ]\n",
            " [-2.125398   -1.495     ]\n",
            " [-6.8888087  -6.618     ]\n",
            " [-4.2113113  -3.659     ]\n",
            " [-2.5070424  -2.522     ]\n",
            " [-2.3626997  -2.318     ]\n",
            " [-3.6934056  -3.564     ]\n",
            " [-0.9608715  -0.757     ]\n",
            " [-3.1108122  -3.192     ]\n",
            " [-1.6337227  -0.906     ]\n",
            " [-1.5652791  -1.815     ]\n",
            " [ 0.02249443 -0.674     ]\n",
            " [-4.7527466  -5.246     ]\n",
            " [-2.9619594  -4.004     ]\n",
            " [-2.6205971  -3.125     ]\n",
            " [-4.4407997  -4.45      ]\n",
            " [-3.8163764  -3.411     ]\n",
            " [-4.4150944  -4.227     ]\n",
            " [-3.8600585  -4.007     ]\n",
            " [-3.7081923  -3.125     ]\n",
            " [-3.8909616  -3.663     ]\n",
            " [-2.6131437  -3.049     ]\n",
            " [ 0.6802427   0.647     ]\n",
            " [-1.2881643  -0.706     ]\n",
            " [-0.6269056  -0.604     ]\n",
            " [-5.2132444  -5.462     ]\n",
            " [-3.770043   -3.659     ]\n",
            " [-0.5753857  -0.495     ]\n",
            " [-1.9604017  -1.944     ]\n",
            " [-3.0377393  -2.87      ]\n",
            " [ 0.15187374  0.329     ]\n",
            " [-4.106822   -4.132     ]\n",
            " [-2.2297544  -2.734     ]\n",
            " [-2.5306892  -2.312     ]\n",
            " [-5.9805307  -5.645     ]\n",
            " [-5.6959133  -5.205     ]\n",
            " [-5.800443   -5.568     ]\n",
            " [-3.5572405  -4.377     ]]\n"
          ]
        }
      ]
    },
    {
      "cell_type": "code",
      "source": [
        "preds = network.predict(train_features)\n",
        "x_y_line = np.linspace(min(train_labels.flatten()), max(train_labels.flatten()), 500)\n",
        "plt.plot(train_labels.flatten(), preds.flatten(), 'o', label='predictions')\n",
        "plt.plot(x_y_line, x_y_line, label='y=x')\n",
        "plt.xlabel(\"Log solubility (ground truth)\")\n",
        "plt.ylabel(\"Log solubility (predicted)\")\n",
        "plt.title(\"Parity plot: predictions vs ground truth data\")\n",
        "plt.legend()"
      ],
      "metadata": {
        "colab": {
          "base_uri": "https://localhost:8080/",
          "height": 313
        },
        "id": "62ceFbikrH4W",
        "outputId": "4924b617-9fa8-4421-d82f-97c2bd09a3d9"
      },
      "execution_count": null,
      "outputs": [
        {
          "output_type": "execute_result",
          "data": {
            "text/plain": [
              "<matplotlib.legend.Legend at 0x7f22e3230650>"
            ]
          },
          "metadata": {},
          "execution_count": 78
        },
        {
          "output_type": "display_data",
          "data": {
            "text/plain": [
              "<Figure size 432x288 with 1 Axes>"
            ],
            "image/png": "[encoded data removed]"
          },
          "metadata": {
            "needs_background": "light"
          }
        }
      ]
    },
    {
      "cell_type": "code",
      "source": [
        "preds = network.predict(test_features)\n",
        "x_y_line = np.linspace(min(test_labels.flatten()), max(test_labels.flatten()), 500)\n",
        "plt.plot(test_labels.flatten(), preds.flatten(), 'o', label='predictions')\n",
        "plt.plot(x_y_line, x_y_line, label='y=x')\n",
        "plt.xlabel(\"Log solubility (ground truth)\")\n",
        "plt.ylabel(\"Log solubility (predicted)\")\n",
        "plt.title(\"Parity plot: predictions vs ground truth data\")\n",
        "plt.legend()"
      ],
      "metadata": {
        "colab": {
          "base_uri": "https://localhost:8080/",
          "height": 313
        },
        "id": "cAcER1xFrLJG",
        "outputId": "b12c3264-ac58-4c65-ba24-9217e4f9ec37"
      },
      "execution_count": null,
      "outputs": [
        {
          "output_type": "execute_result",
          "data": {
            "text/plain": [
              "<matplotlib.legend.Legend at 0x7f22d6808dd0>"
            ]
          },
          "metadata": {},
          "execution_count": 79
        },
        {
          "output_type": "display_data",
          "data": {
            "text/plain": [
              "<Figure size 432x288 with 1 Axes>"
            ],
            "image/png": "[encoded data removed]"
          },
          "metadata": {
            "needs_background": "light"
          }
        }
      ]
    },
    {
      "cell_type": "code",
      "source": [
        "from sklearn.metrics import r2_score\n",
        "r2_score(test_labels, Y_test_predited)\n",
        "print('Mean squared error (MSE): %.2f'% mean_squared_error(test_labels, Y_test_predited))\n",
        "print('Coefficient of determination (R^2): %.2f'% r2_score(test_labels,Y_test_predited))\n",
        "\n",
        "\n"
      ],
      "metadata": {
        "colab": {
          "base_uri": "https://localhost:8080/"
        },
        "id": "CTHZNMAjpl13",
        "outputId": "d961d761-2927-4148-b7d7-88152fff69a3"
      },
      "execution_count": null,
      "outputs": [
        {
          "output_type": "stream",
          "name": "stdout",
          "text": [
            "Mean squared error (MSE): 0.15\n",
            "Coefficient of determination (R^2): 0.95\n"
          ]
        }
      ]
    }
  ]
}