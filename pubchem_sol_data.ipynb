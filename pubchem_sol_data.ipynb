{
  "nbformat": 4,
  "nbformat_minor": 0,
  "metadata": {
    "colab": {
      "name": "pubchem_sol_data.ipynb",
      "provenance": [],
      "collapsed_sections": [],
      "mount_file_id": "1898xrl5rOXs_FbNmb68mxyh6C3ei1EIb",
      "authorship_tag": "ABX9TyMOs3V2R9APV8FF5e9OPzJE",
      "include_colab_link": true
    },
    "kernelspec": {
      "name": "python3",
      "display_name": "Python 3"
    },
    "language_info": {
      "name": "python"
    }
  },
  "cells": [
    {
      "cell_type": "markdown",
      "metadata": {
        "id": "view-in-github",
        "colab_type": "text"
      },
      "source": [
        "<a href=\"https://colab.research.google.com/github/ali1810/Big-DATA-week1-/blob/master/pubchem_sol_data.ipynb\" target=\"_parent\"><img src=\"https://colab.research.google.com/assets/colab-badge.svg\" alt=\"Open In Colab\"/></a>"
      ]
    },
    {
      "cell_type": "code",
      "execution_count": 2,
      "metadata": {
        "id": "9ssPb9oGiERA"
      },
      "outputs": [],
      "source": [
        "## Import the requiered library \n",
        "import requests\n",
        "from bs4 import BeautifulSoup\n",
        "import re\n"
      ]
    },
    {
      "cell_type": "code",
      "source": [
        "## Get the SMILES WITH COMPOUND NAME data with name of the compund \n",
        "data = requests.get(\"https://pubchem.ncbi.nlm.nih.gov/rest/pug/compound/name/aspirin/xml\")\n",
        "html = BeautifulSoup(data.content, \"xml\")\n",
        "html.find_all(\"PC-Urn_label\")\n",
        "smiles_tag = html.find(name=\"PC-Urn_label\", string=\"SMILES\")\n",
        "smiles_parents = smiles_tag.find_parent(\"PC-InfoData\")\n",
        "smiles = smiles_parents.find('PC-InfoData_value_sval').string\n",
        "smiles\n",
        "\n",
        "\n"
      ],
      "metadata": {
        "colab": {
          "base_uri": "https://localhost:8080/",
          "height": 35
        },
        "id": "yzBTT87omamf",
        "outputId": "3d6e1402-3b08-492c-cbea-5851de81d035"
      },
      "execution_count": 31,
      "outputs": [
        {
          "output_type": "execute_result",
          "data": {
            "text/plain": [
              "'CC(=O)OC1=CC=CC=C1C(=O)O'"
            ],
            "application/vnd.google.colaboratory.intrinsic+json": {
              "type": "string"
            }
          },
          "metadata": {},
          "execution_count": 31
        }
      ]
    },
    {
      "cell_type": "code",
      "source": [
        "### code to get the compund solubility based on the compound id which is also called CID of the compound \n",
        "x = \"https://pubchem.ncbi.nlm.nih.gov/rest/pug_view/data/compound/%s/xml\"\n",
        "num = 1\n",
        "sol = []\n",
        "for i in range(4):\n",
        "  #print(x%num)\n",
        "  data=requests.get(x % num)\n",
        "  \n",
        "  html = BeautifulSoup(data.content, \"xml\")\n",
        "  solubility = html.find(name='TOCHeading', string='Solubility')\n",
        "  if solubility ==None:\n",
        "    solub=None\n",
        "    sol.append(solub)\n",
        "  else:\n",
        "    solub=solubility.find_next_sibling('Information').find(name='String').string\n",
        "    sol.append(solub)\n",
        "  \n",
        "  num += 1\n",
        "\n",
        "print(sol)\n"
      ],
      "metadata": {
        "colab": {
          "base_uri": "https://localhost:8080/"
        },
        "id": "X83qOMwuZueY",
        "outputId": "7f91d74b-f8a9-4222-a90c-9d7b80f218e7"
      },
      "execution_count": 30,
      "outputs": [
        {
          "output_type": "stream",
          "name": "stdout",
          "text": [
            "[None, None, None, 'greater than or equal to 100 mg/mL at 67.6° F (NTP, 1992)']\n"
          ]
        }
      ]
    },
    {
      "cell_type": "code",
      "source": [
        "\n",
        "\n",
        "def fetch_water_solubility(CID):\n",
        "    import requests\n",
        "    r = requests.get('https://pubchem.ncbi.nlm.nih.gov/rest/pug_view/data/compound/%s/JSON' % CID)\n",
        "    for section in r.json()['Record']['Section']:\n",
        "        if section.get('TOCHeading') == 'Chemical and Physical Properties':\n",
        "            for subsection in section['Section']:\n",
        "                if subsection['TOCHeading'] == 'Experimental Properties':\n",
        "                    for subsubsection in subsection['Section']:\n",
        "                        if subsubsection['TOCHeading'] == 'Solubility':\n",
        "    #                         print(subsubsection)\n",
        "                            for s3section in subsubsection[\"Information\"]:\n",
        "                                if s3section[\"Name\"] == \"Water Solubility\":\n",
        "                                    return s3section[\"NumValue\"],s3section[\"ValueUnit\"]\n"
      ],
      "metadata": {
        "id": "CGF1jYVL0Z8u"
      },
      "execution_count": null,
      "outputs": []
    },
    {
      "cell_type": "code",
      "source": [
        "\n",
        "\n",
        "\n",
        "#There is an undocumented API that is used to assemble the PubChem compound web pages:\n",
        "#https://pubchem.ncbi.nlm.nih.gov/rest/pug_view/data/compound/2244/JSON\n",
        "\n",
        "#This look like it has the info you want. You could do something like:\n",
        "\n",
        "import requests\n",
        "r = requests.get('https://pubchem.ncbi.nlm.nih.gov/rest/pug_view/data/compound/2244/JSON')\n",
        "for section in r.json()['Record']['Section']:\n",
        "    if section.get('TOCHeading') == 'Chemical and Physical Properties':\n",
        "        for subsection in section['Section']:\n",
        "            if subsection['TOCHeading'] == 'Experimental Properties':\n",
        "                for subsubsection in subsection['Section']:\n",
        "                    if subsubsection['TOCHeading'] == 'Solubility':\n",
        "                        print(subsubsection)\n"
      ],
      "metadata": {
        "colab": {
          "base_uri": "https://localhost:8080/"
        },
        "id": "iyqw3phY0xxF",
        "outputId": "ecfd9407-e80b-4f3e-f03a-e1e206e6be67"
      },
      "execution_count": null,
      "outputs": [
        {
          "output_type": "stream",
          "name": "stdout",
          "text": [
            "{'TOCHeading': 'Solubility', 'Description': 'The solubility of a substance is the amount of that substance that will dissolve in a given amount of solvent. The default solvent is water, if not indicated.', 'Information': [{'ReferenceNumber': 1, 'Reference': ['National Toxicology Program, Institute of Environmental Health Sciences, National Institutes of Health (NTP). 1992. National Toxicology Program Chemical Repository Database. Research Triangle Park, North Carolina.'], 'Value': {'StringWithMarkup': [{'String': 'less than 1 mg/mL at 73° F (NTP, 1992)'}]}}, {'ReferenceNumber': 14, 'Reference': ['https://www.sigmaaldrich.com/catalog/product/sigma/a5376?lang=en&region=US'], 'Value': {'Number': [10], 'Unit': 'mg/mL'}}, {'ReferenceNumber': 20, 'Reference': ['YALKOWSKY,SH & DANNENFELSER,RM (1992)'], 'Value': {'StringWithMarkup': [{'String': '0.03 M'}]}}, {'ReferenceNumber': 38, 'Description': 'PEER REVIEWED', 'Reference': [\"O'Neil, M.J. (ed.). The Merck Index - An Encyclopedia of Chemicals, Drugs, and Biologicals. Whitehouse Station, NJ:  Merck and Co., Inc., 2006., p. 140\"], 'Value': {'StringWithMarkup': [{'String': '1 g sol in: 300 mL water at 25 °C, 100 mL water at 37 °C, 5 mL alcohol, 17 mL chloroform, 10-15 mL ether; less sol in anhydrous ether', 'Markup': [{'Start': 19, 'Length': 5, 'URL': 'https://pubchem.ncbi.nlm.nih.gov/compound/water', 'Type': 'PubChem Internal Link', 'Extra': 'CID-962'}, {'Start': 42, 'Length': 5, 'URL': 'https://pubchem.ncbi.nlm.nih.gov/compound/water', 'Type': 'PubChem Internal Link', 'Extra': 'CID-962'}, {'Start': 78, 'Length': 10, 'URL': 'https://pubchem.ncbi.nlm.nih.gov/compound/chloroform', 'Type': 'PubChem Internal Link', 'Extra': 'CID-6212'}]}]}}, {'ReferenceNumber': 38, 'Description': 'PEER REVIEWED', 'Reference': ['Yalkowsky SH, Dannenfelser RM; Aquasol Database of Aqueous Solubility. Version 5. College of Pharmacy, University of Arizona - Tucson, AZ (1992)'], 'Value': {'StringWithMarkup': [{'String': 'In water, 4,600 mg/L at 25 °C', 'Markup': [{'Start': 3, 'Length': 5, 'URL': 'https://pubchem.ncbi.nlm.nih.gov/compound/water', 'Type': 'PubChem Internal Link', 'Extra': 'CID-962'}]}]}}, {'ReferenceNumber': 56, 'Value': {'StringWithMarkup': [{'String': 'Solubility in water, g/100ml at 15 °C: 0.25 (poor)', 'Markup': [{'Start': 14, 'Length': 5, 'URL': 'https://pubchem.ncbi.nlm.nih.gov/compound/water', 'Type': 'PubChem Internal Link', 'Extra': 'CID-962'}]}]}}, {'ReferenceNumber': 145, 'Value': {'StringWithMarkup': [{'String': '(77°F): 0.3%'}]}}]}\n"
          ]
        }
      ]
    }
  ]
}