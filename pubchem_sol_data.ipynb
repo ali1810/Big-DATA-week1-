{
  "cells": [
    {
      "cell_type": "markdown",
      "metadata": {
        "id": "view-in-github",
        "colab_type": "text"
      },
      "source": [
        "<a href=\"https://colab.research.google.com/github/ali1810/Big-DATA-week1-/blob/master/pubchem_sol_data.ipynb\" target=\"_parent\"><img src=\"https://colab.research.google.com/assets/colab-badge.svg\" alt=\"Open In Colab\"/></a>"
      ]
    },
    {
      "cell_type": "code",
      "execution_count": 1,
      "metadata": {
        "id": "9ssPb9oGiERA"
      },
      "outputs": [],
      "source": [
        "## Import the required library \n",
        "import requests\n",
        "from bs4 import BeautifulSoup\n",
        "import re\n"
      ]
    },
    {
      "cell_type": "code",
      "execution_count": 2,
      "metadata": {
        "colab": {
          "base_uri": "https://localhost:8080/",
          "height": 35
        },
        "id": "yzBTT87omamf",
        "outputId": "13640c4d-c620-493e-a515-abe80c4b39a7"
      },
      "outputs": [
        {
          "output_type": "execute_result",
          "data": {
            "text/plain": [
              "'CC(=O)OC1=CC=CC=C1C(=O)O'"
            ],
            "application/vnd.google.colaboratory.intrinsic+json": {
              "type": "string"
            }
          },
          "metadata": {},
          "execution_count": 2
        }
      ],
      "source": [
        "## Get the SMILES WITH COMPOUND NAME\n",
        "data = requests.get(\"https://pubchem.ncbi.nlm.nih.gov/rest/pug/compound/name/aspirin/xml\")\n",
        "html = BeautifulSoup(data.content, \"xml\")\n",
        "html.find_all(\"PC-Urn_label\")\n",
        "smiles_tag = html.find(name=\"PC-Urn_label\", string=\"SMILES\")\n",
        "smiles_parents = smiles_tag.find_parent(\"PC-InfoData\")\n",
        "smiles = smiles_parents.find('PC-InfoData_value_sval').string\n",
        "smiles\n",
        "\n",
        "\n"
      ]
    },
    {
      "cell_type": "code",
      "execution_count": 3,
      "metadata": {
        "colab": {
          "base_uri": "https://localhost:8080/"
        },
        "id": "X83qOMwuZueY",
        "outputId": "f65e8b54-23bf-4193-848d-6d0504619131"
      },
      "outputs": [
        {
          "output_type": "stream",
          "name": "stdout",
          "text": [
            "[None, None, None, 'greater than or equal to 100 mg/mL at 67.6° F (NTP, 1992)']\n"
          ]
        }
      ],
      "source": [
        "### code to get the compund solubility based on the compound id which is also called CID of the compound \n",
        "x = \"https://pubchem.ncbi.nlm.nih.gov/rest/pug_view/data/compound/%s/xml\"\n",
        "num = 1\n",
        "sol = []\n",
        "for i in range(4):\n",
        "  #print(x%num)\n",
        "  data=requests.get(x % num)\n",
        "  \n",
        "  html = BeautifulSoup(data.content, \"xml\")\n",
        "  solubility = html.find(name='TOCHeading', string='Solubility')\n",
        "  if solubility ==None:\n",
        "    solub=None\n",
        "    sol.append(solub)\n",
        "  else:\n",
        "    solub=solubility.find_next_sibling('Information').find(name='String').string\n",
        "    sol.append(solub)\n",
        "  \n",
        "  num += 1\n",
        "\n",
        "print(sol)\n"
      ]
    },
    {
      "cell_type": "code",
      "execution_count": 4,
      "metadata": {
        "colab": {
          "base_uri": "https://localhost:8080/"
        },
        "id": "W4OcKewQWZXI",
        "outputId": "a06220a8-3d3e-4505-cd84-6c0d09b04d24"
      },
      "outputs": [
        {
          "output_type": "execute_result",
          "data": {
            "text/plain": [
              "[]"
            ]
          },
          "metadata": {},
          "execution_count": 4
        }
      ],
      "source": [
        "data =requests.get(\"https://pubchem.ncbi.nlm.nih.gov/rest/pug_view/data/compound/1983/JSON?heading=Solubility\")\n",
        "#data = requests.get(\"https://pubchem.ncbi.nlm.nih.gov/rest/pug/compound/name/aspirin/xml\")\n",
        "html = BeautifulSoup(data.content, \"xml\")\n",
        "html.find_all(\"PC-Urn_label\")\n",
        "\n"
      ]
    },
    {
      "cell_type": "code",
      "execution_count": 5,
      "metadata": {
        "id": "Iil3tkj7O0z4",
        "colab": {
          "base_uri": "https://localhost:8080/"
        },
        "outputId": "ac025f15-d72d-4e1a-e42f-18d3efc5f9cb"
      },
      "outputs": [
        {
          "output_type": "stream",
          "name": "stdout",
          "text": [
            "Looking in indexes: https://pypi.org/simple, https://us-python.pkg.dev/colab-wheels/public/simple/\n",
            "Collecting pubchempy\n",
            "  Downloading PubChemPy-1.0.4.tar.gz (29 kB)\n",
            "Building wheels for collected packages: pubchempy\n",
            "  Building wheel for pubchempy (setup.py) ... \u001b[?25l\u001b[?25hdone\n",
            "  Created wheel for pubchempy: filename=PubChemPy-1.0.4-py3-none-any.whl size=13834 sha256=4c2044f8941a25447150399a414b9f359a58a8eaf1ca0f225b5123733f760d90\n",
            "  Stored in directory: /root/.cache/pip/wheels/7c/3d/8c/8192697412e9899dc55bbbb08bbc1197bef333caaa2a71c448\n",
            "Successfully built pubchempy\n",
            "Installing collected packages: pubchempy\n",
            "Successfully installed pubchempy-1.0.4\n"
          ]
        }
      ],
      "source": [
        "##install pubchem python library\n",
        "!pip install pubchempy\n"
      ]
    },
    {
      "cell_type": "code",
      "execution_count": 6,
      "metadata": {
        "id": "bFK7ciG0O6ZP"
      },
      "outputs": [],
      "source": [
        "import pubchempy as pcp\n",
        "\n",
        "import pandas as pd"
      ]
    },
    {
      "cell_type": "code",
      "execution_count": 9,
      "metadata": {
        "id": "pN3s89hDP3zg"
      },
      "outputs": [],
      "source": [
        "prop=pcp.get_properties([ 'MolecularWeight' \n",
        "],'C1=CC=C(C=C1)C=O', 'smiles')\n"
      ]
    },
    {
      "cell_type": "code",
      "execution_count": 10,
      "metadata": {
        "colab": {
          "base_uri": "https://localhost:8080/"
        },
        "id": "s_zy0Sn3OlZ-",
        "outputId": "98828e2d-5bc7-463b-944b-80183fa35409"
      },
      "outputs": [
        {
          "output_type": "stream",
          "name": "stdout",
          "text": [
            "{'CID': 240, 'MolecularWeight': '106.12'}\n"
          ]
        }
      ],
      "source": [
        "print(prop[0])"
      ]
    },
    {
      "cell_type": "code",
      "execution_count": 11,
      "metadata": {
        "id": "9Lg_htfVQvvs"
      },
      "outputs": [],
      "source": [
        "x = list(map(lambda x: x[\"CID\"], prop))"
      ]
    },
    {
      "cell_type": "code",
      "execution_count": 12,
      "metadata": {
        "colab": {
          "base_uri": "https://localhost:8080/"
        },
        "id": "yAPmNa6fQ8Vg",
        "outputId": "355e421f-7ee4-4d30-fc21-ed0d8da1b65f"
      },
      "outputs": [
        {
          "output_type": "stream",
          "name": "stdout",
          "text": [
            "[240]\n"
          ]
        }
      ],
      "source": [
        "print(x)"
      ]
    },
    {
      "cell_type": "code",
      "execution_count": 13,
      "metadata": {
        "colab": {
          "base_uri": "https://localhost:8080/"
        },
        "id": "VtkjYthKRJ0n",
        "outputId": "c2fbb68a-e7f8-4dfb-8a32-11dec3abd773"
      },
      "outputs": [
        {
          "output_type": "stream",
          "name": "stdout",
          "text": [
            "240\n"
          ]
        }
      ],
      "source": [
        "print(x[0])"
      ]
    },
    {
      "cell_type": "code",
      "execution_count": null,
      "metadata": {
        "colab": {
          "base_uri": "https://localhost:8080/"
        },
        "id": "gxcdtpMTg6S3",
        "outputId": "e2fe48ba-598f-470d-d33b-87f54fb4792a"
      },
      "outputs": [
        {
          "output_type": "stream",
          "name": "stdout",
          "text": [
            "Looking in indexes: https://pypi.org/simple, https://us-python.pkg.dev/colab-wheels/public/simple/\n",
            "Collecting pubchempy\n",
            "  Downloading PubChemPy-1.0.4.tar.gz (29 kB)\n",
            "Building wheels for collected packages: pubchempy\n",
            "  Building wheel for pubchempy (setup.py) ... \u001b[?25l\u001b[?25hdone\n",
            "  Created wheel for pubchempy: filename=PubChemPy-1.0.4-py3-none-any.whl size=13834 sha256=fde94545e6cc6e6d75063ffaa5df42bfb758bfa08c710a01d55e6b640df0d7e0\n",
            "  Stored in directory: /root/.cache/pip/wheels/7c/3d/8c/8192697412e9899dc55bbbb08bbc1197bef333caaa2a71c448\n",
            "Successfully built pubchempy\n",
            "Installing collected packages: pubchempy\n",
            "Successfully installed pubchempy-1.0.4\n"
          ]
        }
      ],
      "source": [
        "##install pubchem python library\n",
        "!pip install pubchempy\n"
      ]
    },
    {
      "cell_type": "code",
      "execution_count": 59,
      "metadata": {
        "id": "9AO2FfH9Rfao"
      },
      "outputs": [],
      "source": [
        "import pubchempy as pcp\n",
        "import requests\n",
        "from bs4 import BeautifulSoup\n",
        "def smiles_to_sol(SMILES):\n",
        "   prop=pcp.get_properties([ 'MolecularWeight'], SMILES, 'smiles')\n",
        "   x = list(map(lambda x: x[\"CID\"], prop))\n",
        "   y=x[0]\n",
        "   #print(y)\n",
        "   x = \"https://pubchem.ncbi.nlm.nih.gov/rest/pug_view/data/compound/%s/xml\"\n",
        "   data=requests.get(x % y)\n",
        "   html = BeautifulSoup(data.content, \"xml\")\n",
        "   solubility = html.find(name='TOCHeading', string='Solubility')\n",
        "   #print(dtype(solubility))\n",
        "   if solubility == None:\n",
        "      return None  \n",
        "   #elif          # or pass\n",
        "   else:\n",
        "     solub=solubility.find_next_sibling('Information').find(name='String').string\n",
        "     return solub"
      ]
    },
    {
      "cell_type": "code",
      "source": [
        "prop=pcp.get_properties([ 'MolecularWeight'], 'CC(=O)OC1=CC=CC=C1C(=O)O','smiles')\n",
        "x = list(map(lambda x: x[\"CID\"], prop))\n",
        "y=x[0]\n",
        "   #print(y)\n",
        "x = \"https://pubchem.ncbi.nlm.nih.gov/rest/pug_view/data/compound/%s/xml\"\n",
        "data=requests.get(x % y)\n",
        "html = BeautifulSoup(data.content, \"xml\")\n",
        "solubility = html.find(name='TOCHeading', string='Solubility')\n",
        "print(type(solubility))"
      ],
      "metadata": {
        "colab": {
          "base_uri": "https://localhost:8080/"
        },
        "id": "7lMu8P9K7Aqr",
        "outputId": "c011780b-bfeb-49bf-9a64-d6c2653a64e7"
      },
      "execution_count": 27,
      "outputs": [
        {
          "output_type": "stream",
          "name": "stdout",
          "text": [
            "<class 'bs4.element.Tag'>\n"
          ]
        }
      ]
    },
    {
      "cell_type": "code",
      "execution_count": 16,
      "metadata": {
        "colab": {
          "base_uri": "https://localhost:8080/",
          "height": 53
        },
        "id": "Bs2dF8KEY2f2",
        "outputId": "0d815c33-6f9e-4a4a-8f5d-693799019a62"
      },
      "outputs": [
        {
          "name": "stdout",
          "output_type": "stream",
          "text": [
            "Enter your smiles : CC(=O)OC1=CC=CC=C1C(=O)O\n"
          ]
        },
        {
          "output_type": "execute_result",
          "data": {
            "text/plain": [
              "'less than 1 mg/mL at 73° F (NTP, 1992)'"
            ],
            "application/vnd.google.colaboratory.intrinsic+json": {
              "type": "string"
            }
          },
          "metadata": {},
          "execution_count": 16
        }
      ],
      "source": [
        "\n",
        "## Taking smiles from user \n",
        "smiles = input(\"Enter your smiles : \")\n",
        "\n",
        "## passing smiles to a function to get the solubility from Pubchem websites \n",
        "smiles_to_sol(smiles)\n"
      ]
    },
    {
      "cell_type": "code",
      "execution_count": 90,
      "metadata": {
        "id": "UHT2W5r6NiYy"
      },
      "outputs": [],
      "source": [
        "import pandas as pd\n",
        "### getting  delaney dataset from disk \n",
        "#df=pd.read_csv(\"/content/drive/MyDrive/delaney.csv\")\n",
        "df=pd.read_excel(\"/content/drive/MyDrive/pubchem_1_10000.xlsx\")\n",
        "\n",
        "#df"
      ]
    },
    {
      "cell_type": "code",
      "execution_count": 81,
      "metadata": {
        "colab": {
          "base_uri": "https://localhost:8080/"
        },
        "id": "iwQ-VOfXE0EH",
        "outputId": "e819f8af-fb21-454a-ce47-6140bd25a064"
      },
      "outputs": [
        {
          "output_type": "stream",
          "name": "stdout",
          "text": [
            "10000\n"
          ]
        }
      ],
      "source": [
        "print(len(df))"
      ]
    },
    {
      "cell_type": "code",
      "execution_count": 83,
      "metadata": {
        "id": "Xf1n--Ts4L3-"
      },
      "outputs": [],
      "source": [
        "P_sol=[]\n",
        "for i in range(len(df)-9500):\n",
        "  try:\n",
        "    sol=smiles_to_sol(df.SMILES[i])\n",
        "    P_sol.append(sol)\n",
        "  except AttributeError as e:\n",
        "    sol=='No string'\n",
        "    P_sol.append(sol)\n",
        "\n",
        "   # P_sol.append(sol)  \n",
        "\n"
      ]
    },
    {
      "cell_type": "code",
      "source": [
        "print(len(P_sol))"
      ],
      "metadata": {
        "colab": {
          "base_uri": "https://localhost:8080/"
        },
        "id": "BQ_ICQ_Jw1Nk",
        "outputId": "475bbd99-ea23-4bba-fa5c-b38175213e24"
      },
      "execution_count": 84,
      "outputs": [
        {
          "output_type": "stream",
          "name": "stdout",
          "text": [
            "500\n"
          ]
        }
      ]
    },
    {
      "cell_type": "code",
      "source": [
        "df1 = pd.DataFrame(P_sol)\n",
        "df1.columns =['Solubility']\n",
        "print(df1)\n"
      ],
      "metadata": {
        "colab": {
          "base_uri": "https://localhost:8080/"
        },
        "id": "PC3tqd80SDme",
        "outputId": "8a9b7a87-4e78-4c26-a18f-c7ac567aed8d"
      },
      "execution_count": 91,
      "outputs": [
        {
          "output_type": "stream",
          "name": "stdout",
          "text": [
            "                                            Solubility\n",
            "0                                                 None\n",
            "1                                                 None\n",
            "2                                                 None\n",
            "3    greater than or equal to 100 mg/mL at 67.6° F ...\n",
            "4                                                 None\n",
            "..                                                 ...\n",
            "495                                               None\n",
            "496                                               None\n",
            "497                                             5.79 M\n",
            "498                                               None\n",
            "499               50 to 100 mg/mL at 64° F (NTP, 1992)\n",
            "\n",
            "[500 rows x 1 columns]\n"
          ]
        }
      ]
    },
    {
      "cell_type": "code",
      "source": [
        "### merging the data in one dataframe with smiles and solubility \n",
        "\n",
        "df_new = pd.concat([df, df1], axis=1)"
      ],
      "metadata": {
        "id": "xeEX5y6sWkun"
      },
      "execution_count": 94,
      "outputs": []
    },
    {
      "cell_type": "code",
      "source": [
        "df_new"
      ],
      "metadata": {
        "colab": {
          "base_uri": "https://localhost:8080/",
          "height": 424
        },
        "id": "72XashnZXNge",
        "outputId": "941653d6-bbaa-4d83-9f2b-47222cd655e9"
      },
      "execution_count": 95,
      "outputs": [
        {
          "output_type": "execute_result",
          "data": {
            "text/plain": [
              "        SrN                                             SMILES  \\\n",
              "0         1                   CC(=O)OC(CC(=O)[O-])C[N+](C)(C)C   \n",
              "1         2                      CC(=O)OC(CC(=O)O)C[N+](C)(C)C   \n",
              "2         3                           C1=CC(C(C(=C1)C(=O)O)O)O   \n",
              "3         4                                            CC(CN)O   \n",
              "4         5                               C(C(=O)COP(=O)(O)O)N   \n",
              "...     ...                                                ...   \n",
              "9995  10591  CC(CCC(=O)NCCS(=O)(=O)O)[C@H]1CC[C@@H]2[C@@]1(...   \n",
              "9996  10592  CC12CCC(=O)CC1CCC3C2C(CC4(C3CC[C@@]4(C(=O)CO)O...   \n",
              "9997  10593     CC12CCC(CC1CCC3C2CCC4(C3CC[C@@]4(C(=O)CO)O)C)O   \n",
              "9998  10594  CC(CCC(=O)NCCS(=O)(=O)O)[C@H]1CC[C@@H]2[C@@]1(...   \n",
              "9999  10595  CC(CCC(=O)NCCS(=O)(=O)O)[C@H]1CC[C@@H]2[C@@]1(...   \n",
              "\n",
              "                                             Solubility  \n",
              "0                                                  None  \n",
              "1                                                  None  \n",
              "2                                                  None  \n",
              "3     greater than or equal to 100 mg/mL at 67.6° F ...  \n",
              "4                                                  None  \n",
              "...                                                 ...  \n",
              "9995                                                NaN  \n",
              "9996                                                NaN  \n",
              "9997                                                NaN  \n",
              "9998                                                NaN  \n",
              "9999                                                NaN  \n",
              "\n",
              "[10000 rows x 3 columns]"
            ],
            "text/html": [
              "\n",
              "  <div id=\"df-d3158f37-75ed-4040-a2b0-fdb9e7023223\">\n",
              "    <div class=\"colab-df-container\">\n",
              "      <div>\n",
              "<style scoped>\n",
              "    .dataframe tbody tr th:only-of-type {\n",
              "        vertical-align: middle;\n",
              "    }\n",
              "\n",
              "    .dataframe tbody tr th {\n",
              "        vertical-align: top;\n",
              "    }\n",
              "\n",
              "    .dataframe thead th {\n",
              "        text-align: right;\n",
              "    }\n",
              "</style>\n",
              "<table border=\"1\" class=\"dataframe\">\n",
              "  <thead>\n",
              "    <tr style=\"text-align: right;\">\n",
              "      <th></th>\n",
              "      <th>SrN</th>\n",
              "      <th>SMILES</th>\n",
              "      <th>Solubility</th>\n",
              "    </tr>\n",
              "  </thead>\n",
              "  <tbody>\n",
              "    <tr>\n",
              "      <th>0</th>\n",
              "      <td>1</td>\n",
              "      <td>CC(=O)OC(CC(=O)[O-])C[N+](C)(C)C</td>\n",
              "      <td>None</td>\n",
              "    </tr>\n",
              "    <tr>\n",
              "      <th>1</th>\n",
              "      <td>2</td>\n",
              "      <td>CC(=O)OC(CC(=O)O)C[N+](C)(C)C</td>\n",
              "      <td>None</td>\n",
              "    </tr>\n",
              "    <tr>\n",
              "      <th>2</th>\n",
              "      <td>3</td>\n",
              "      <td>C1=CC(C(C(=C1)C(=O)O)O)O</td>\n",
              "      <td>None</td>\n",
              "    </tr>\n",
              "    <tr>\n",
              "      <th>3</th>\n",
              "      <td>4</td>\n",
              "      <td>CC(CN)O</td>\n",
              "      <td>greater than or equal to 100 mg/mL at 67.6° F ...</td>\n",
              "    </tr>\n",
              "    <tr>\n",
              "      <th>4</th>\n",
              "      <td>5</td>\n",
              "      <td>C(C(=O)COP(=O)(O)O)N</td>\n",
              "      <td>None</td>\n",
              "    </tr>\n",
              "    <tr>\n",
              "      <th>...</th>\n",
              "      <td>...</td>\n",
              "      <td>...</td>\n",
              "      <td>...</td>\n",
              "    </tr>\n",
              "    <tr>\n",
              "      <th>9995</th>\n",
              "      <td>10591</td>\n",
              "      <td>CC(CCC(=O)NCCS(=O)(=O)O)[C@H]1CC[C@@H]2[C@@]1(...</td>\n",
              "      <td>NaN</td>\n",
              "    </tr>\n",
              "    <tr>\n",
              "      <th>9996</th>\n",
              "      <td>10592</td>\n",
              "      <td>CC12CCC(=O)CC1CCC3C2C(CC4(C3CC[C@@]4(C(=O)CO)O...</td>\n",
              "      <td>NaN</td>\n",
              "    </tr>\n",
              "    <tr>\n",
              "      <th>9997</th>\n",
              "      <td>10593</td>\n",
              "      <td>CC12CCC(CC1CCC3C2CCC4(C3CC[C@@]4(C(=O)CO)O)C)O</td>\n",
              "      <td>NaN</td>\n",
              "    </tr>\n",
              "    <tr>\n",
              "      <th>9998</th>\n",
              "      <td>10594</td>\n",
              "      <td>CC(CCC(=O)NCCS(=O)(=O)O)[C@H]1CC[C@@H]2[C@@]1(...</td>\n",
              "      <td>NaN</td>\n",
              "    </tr>\n",
              "    <tr>\n",
              "      <th>9999</th>\n",
              "      <td>10595</td>\n",
              "      <td>CC(CCC(=O)NCCS(=O)(=O)O)[C@H]1CC[C@@H]2[C@@]1(...</td>\n",
              "      <td>NaN</td>\n",
              "    </tr>\n",
              "  </tbody>\n",
              "</table>\n",
              "<p>10000 rows × 3 columns</p>\n",
              "</div>\n",
              "      <button class=\"colab-df-convert\" onclick=\"convertToInteractive('df-d3158f37-75ed-4040-a2b0-fdb9e7023223')\"\n",
              "              title=\"Convert this dataframe to an interactive table.\"\n",
              "              style=\"display:none;\">\n",
              "        \n",
              "  <svg xmlns=\"http://www.w3.org/2000/svg\" height=\"24px\"viewBox=\"0 0 24 24\"\n",
              "       width=\"24px\">\n",
              "    <path d=\"M0 0h24v24H0V0z\" fill=\"none\"/>\n",
              "    <path d=\"M18.56 5.44l.94 2.06.94-2.06 2.06-.94-2.06-.94-.94-2.06-.94 2.06-2.06.94zm-11 1L8.5 8.5l.94-2.06 2.06-.94-2.06-.94L8.5 2.5l-.94 2.06-2.06.94zm10 10l.94 2.06.94-2.06 2.06-.94-2.06-.94-.94-2.06-.94 2.06-2.06.94z\"/><path d=\"M17.41 7.96l-1.37-1.37c-.4-.4-.92-.59-1.43-.59-.52 0-1.04.2-1.43.59L10.3 9.45l-7.72 7.72c-.78.78-.78 2.05 0 2.83L4 21.41c.39.39.9.59 1.41.59.51 0 1.02-.2 1.41-.59l7.78-7.78 2.81-2.81c.8-.78.8-2.07 0-2.86zM5.41 20L4 18.59l7.72-7.72 1.47 1.35L5.41 20z\"/>\n",
              "  </svg>\n",
              "      </button>\n",
              "      \n",
              "  <style>\n",
              "    .colab-df-container {\n",
              "      display:flex;\n",
              "      flex-wrap:wrap;\n",
              "      gap: 12px;\n",
              "    }\n",
              "\n",
              "    .colab-df-convert {\n",
              "      background-color: #E8F0FE;\n",
              "      border: none;\n",
              "      border-radius: 50%;\n",
              "      cursor: pointer;\n",
              "      display: none;\n",
              "      fill: #1967D2;\n",
              "      height: 32px;\n",
              "      padding: 0 0 0 0;\n",
              "      width: 32px;\n",
              "    }\n",
              "\n",
              "    .colab-df-convert:hover {\n",
              "      background-color: #E2EBFA;\n",
              "      box-shadow: 0px 1px 2px rgba(60, 64, 67, 0.3), 0px 1px 3px 1px rgba(60, 64, 67, 0.15);\n",
              "      fill: #174EA6;\n",
              "    }\n",
              "\n",
              "    [theme=dark] .colab-df-convert {\n",
              "      background-color: #3B4455;\n",
              "      fill: #D2E3FC;\n",
              "    }\n",
              "\n",
              "    [theme=dark] .colab-df-convert:hover {\n",
              "      background-color: #434B5C;\n",
              "      box-shadow: 0px 1px 3px 1px rgba(0, 0, 0, 0.15);\n",
              "      filter: drop-shadow(0px 1px 2px rgba(0, 0, 0, 0.3));\n",
              "      fill: #FFFFFF;\n",
              "    }\n",
              "  </style>\n",
              "\n",
              "      <script>\n",
              "        const buttonEl =\n",
              "          document.querySelector('#df-d3158f37-75ed-4040-a2b0-fdb9e7023223 button.colab-df-convert');\n",
              "        buttonEl.style.display =\n",
              "          google.colab.kernel.accessAllowed ? 'block' : 'none';\n",
              "\n",
              "        async function convertToInteractive(key) {\n",
              "          const element = document.querySelector('#df-d3158f37-75ed-4040-a2b0-fdb9e7023223');\n",
              "          const dataTable =\n",
              "            await google.colab.kernel.invokeFunction('convertToInteractive',\n",
              "                                                     [key], {});\n",
              "          if (!dataTable) return;\n",
              "\n",
              "          const docLinkHtml = 'Like what you see? Visit the ' +\n",
              "            '<a target=\"_blank\" href=https://colab.research.google.com/notebooks/data_table.ipynb>data table notebook</a>'\n",
              "            + ' to learn more about interactive tables.';\n",
              "          element.innerHTML = '';\n",
              "          dataTable['output_type'] = 'display_data';\n",
              "          await google.colab.output.renderOutput(dataTable, element);\n",
              "          const docLink = document.createElement('div');\n",
              "          docLink.innerHTML = docLinkHtml;\n",
              "          element.appendChild(docLink);\n",
              "        }\n",
              "      </script>\n",
              "    </div>\n",
              "  </div>\n",
              "  "
            ]
          },
          "metadata": {},
          "execution_count": 95
        }
      ]
    }
  ],
  "metadata": {
    "colab": {
      "collapsed_sections": [],
      "name": "pubchem_sol_data.ipynb",
      "provenance": [],
      "mount_file_id": "1898xrl5rOXs_FbNmb68mxyh6C3ei1EIb",
      "authorship_tag": "ABX9TyOiWFrJg+crehDSMwyquQdy",
      "include_colab_link": true
    },
    "kernelspec": {
      "display_name": "Python 3",
      "name": "python3"
    },
    "language_info": {
      "name": "python"
    }
  },
  "nbformat": 4,
  "nbformat_minor": 0
}